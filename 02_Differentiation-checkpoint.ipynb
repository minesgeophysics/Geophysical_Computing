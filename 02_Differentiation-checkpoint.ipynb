{
  "cells": [
    {
      "cell_type": "markdown",
      "metadata": {
        "id": "view-in-github",
        "colab_type": "text"
      },
      "source": [
        "<a href=\"https://colab.research.google.com/github/minesgeophysics/Geophysical_Computing/blob/main/02_Differentiation-checkpoint.ipynb\" target=\"_parent\"><img src=\"https://colab.research.google.com/assets/colab-badge.svg\" alt=\"Open In Colab\"/></a>"
      ]
    },
    {
      "cell_type": "code",
      "execution_count": null,
      "metadata": {
        "id": "yuEHmbhZuS5E"
      },
      "outputs": [],
      "source": [
        "from IPython.display import HTML\n",
        "import numpy as np\n",
        "import matplotlib.pyplot as plt\n",
        "from matplotlib import animation\n",
        "\n",
        "import warnings\n",
        "warnings.filterwarnings(\"ignore\")\n"
      ]
    },
    {
      "cell_type": "markdown",
      "metadata": {
        "id": "GLGXksEXuS5F"
      },
      "source": [
        "<font size=\"6\"><center><b>GPGN 436/536</b></center></font>\n",
        "\n",
        "<font size=\"4\">       \n",
        "    \n",
        "<center> Dr. Ge Jin and Dr. Jeff Shragge\n",
        "    \n",
        "<center> Geophysics Department\n",
        "    \n",
        "<center> Colorado School of Mines"
      ]
    },
    {
      "cell_type": "markdown",
      "metadata": {
        "id": "CBFzh7K4uS5F"
      },
      "source": [
        "\n",
        "<h1><center>Module 02: Differentiation and Discretization</center></h1>\n",
        "\n",
        "This module is largely focused on theory and practice of taking **analytic** partial differential equations (PDEs) defined on a **continuum** such as the 1D advection equation:\n",
        "\n",
        "$$\\frac{\\partial U}{\\partial t}+c\\frac{\\partial U}{\\partial x} = 0, \\tag{1} $$\n",
        "\n",
        "and replacing it with a **discretized** version that is appropriate for generating **numerical solutions** on **discrete computational grid**.  \n",
        "\n",
        "Why are we interested in doing such a thing? The answer largely lies in the fact that there are only a limited number of analytical solutions to almost all PDEs, and these are restricted to idealized scenarios (e.g., homogeneous medium, simple boundary conditions).  The real world, though, is inherently complex and cannot be simply defined by these idealized analytic scenarios. To address these situations, we must turn to **numerical solutions** of these PDEs.  In doing so, however, we run into a whole new class of challenges including **numerical stability**, **approximation accuracy**, and **computational efficiency** to name just a few. The purpose of this module is to start introducing some of these concepts within the context of numerical **differentiation** and **discretization**.   "
      ]
    },
    {
      "cell_type": "markdown",
      "metadata": {
        "id": "AeaE1LwJuS5F"
      },
      "source": [
        "## The Derivative Definition\n",
        "\n",
        "Let's begin this module with a quick refresher on the definition of the derivative.  In your study of calculus over the previous number of years, you have no doubt encountered the following definition of the first derivative of function $f(t)$ defined on some interval $t\\in[a,b]$:\n",
        "\n",
        "$$ f^\\prime(t) = \\lim_{\\Delta t\\rightarrow 0} \\frac{f(t+\\Delta t)-f(t)}{\\Delta t},  \\tag{2}$$\n",
        "\n",
        "where the $^\\prime$ symbol indicates the derivative, and $\\Delta t$ for a small increment. There are a number of other criteria that needs to be considered (e.g., continuity, differentiability); however, in this course we will assume that the functions under consideration are well-behaved such that these are not an issue.\n",
        "\n",
        "### The Limits of Limits\n",
        "\n",
        "Because we are interested in **discrete** solutions in this module, we are dealing with scenarios where we have some minimum **discrete** sampling of the continuous time axis: $\\Delta t$. In these scenarios, we cannot take the limit of $\\Delta t \\rightarrow 0$ as is required by definition of the derivative.  Thus, we are left with a **numerical approximation** of the continuous derivative:\n",
        "\n",
        "$$ f^\\prime(t) = \\frac{df}{dt} \\approx \\frac{\\Delta f}{\\Delta t} = \\frac{f(t+\\Delta t)-f(t)}{\\Delta t}. \\tag{3}$$\n",
        "\n",
        "Note that we have had to introduce the approximate symbol $\\approx$ since these are not formally equal.  However, we can introduce equality by rewriting this equation as\n",
        "\n",
        "$$ f^\\prime(t) = \\frac{df}{dt} = \\frac{f(t+\\Delta t)-f(t)}{\\Delta t} +\\mathcal{O}(\\Delta t^2), \\tag{4}$$\n",
        "\n",
        "where $\\mathcal{O}(\\Delta t^2)$ indicates that there are **higher-order terms** proportional to at least $\\Delta t^2$ that contribute to this equation in this case **second-order** terms such that equation 4 represents a **first-order approximation**.  \n",
        "\n",
        "To think of why this would be important, consider if $\\Delta t < 1$ is small, then $\\Delta t^2 << 1$ will be much smaller; thus, an $\\mathcal{O}(\\Delta t^2)$ approximation will be more accurate than an $\\mathcal{O}(\\Delta t)$ one.  Note that the $\\mathcal{O}(\\Delta t^n)$ term is often implicitly assumed and is only written when required for clarity."
      ]
    },
    {
      "cell_type": "markdown",
      "metadata": {
        "id": "Bo_6kHesuS5G"
      },
      "source": [
        "## Taylor Series\n",
        "\n",
        "Let's now bring in Taylor Series to help us better understand why the above expression is only a first-order expression.  Recall that Taylor's theorem with remainder gives the following expression:\n",
        "\n",
        "$$f(t+\\Delta t) = f(t) + \\Delta t f^\\prime(t) + \\Delta t^2 \\frac{f^{\\prime\\prime}(t)}{2!}, \\tag{5}$$\n",
        "\n",
        "where it is assumed that all of the derivatives are evaluated at $t$ (and not $t+\\Delta t$).  Rearranging this equation leads to the following:\n",
        "\n",
        "$$\\frac{f(t+\\Delta t) - f(t)}{\\Delta t} -f^\\prime(t) =  \\Delta t \\frac{f^{\\prime\\prime}(t)}{2!},\\tag{6}$$\n",
        "\n",
        "where the left-hand side represents the difference between the approximate numerical derivative and the true analytic derivative, while the the right-hand side of which tells us that the **numerical error** is proportional to $\\Delta t$ and thus this expression represents a **first-order approximation**.  "
      ]
    },
    {
      "cell_type": "markdown",
      "metadata": {
        "id": "REgMVCqUuS5G"
      },
      "source": [
        "### Forward and Backward Approximations\n",
        "\n",
        "So far, it is likely that you have been thinking of $\\Delta t$ as a small **positive** quantity; however, we did not formally include positivity in its definition.  This definition is called a **forward approximation** of $f^\\prime(t)$ because it is defined using information at $t$ and $t+\\Delta t$, which is $\\Delta t$ forward of $t$.\n",
        "\n",
        "Let's now say that we have new small **negative** quantity $\\Delta t^\\prime$ such that $\\Delta t^\\prime=-\\Delta t$.  How does this affect the expression in equation 6?\n",
        "\n",
        "$$\\frac{f(t-\\Delta t^\\prime) - f(t)}{-\\Delta t^\\prime} - f^\\prime(t) = \\frac{f(t) - f(t-\\Delta t^\\prime) }{\\Delta t^\\prime} - f^\\prime(t) = - \\Delta t^{\\prime} \\frac{f^{\\prime\\prime}(t)}{2!}. \\tag{7}$$\n",
        "\n",
        "Thus, the middle equality of equation 7 has the same form as equation 6; however, it now requires information at $t$ and $t-\\Delta t$, which $\\Delta t$ units behind $t$. Thus, this expression is called a **backward approximation** of $f^\\prime(t)$.  You'll also note that the error is again proportional to $\\Delta t^\\prime$. Thus, as one may expect, this expression is also a **first-order approximation** just like equation 6."
      ]
    },
    {
      "cell_type": "markdown",
      "metadata": {
        "id": "jRVRIKvquS5G"
      },
      "source": [
        "## Higher-order Taylor Series Approximations\n",
        "\n",
        "Let's now look at combining different Taylor Series approximations to see if we can generate a higher-order expression (i.e., the error term is proportional to at least $\\Delta t^2$).  Here are the forward and backward Taylor-Series approximations defined in equations 6 and 7 above, but now expanded out in a higher-order approximation:\n",
        "\n",
        "$$f(t+\\Delta t) = f(t) + \\Delta t f^\\prime(t) + \\Delta t^2 \\frac{f^{\\prime\\prime}(t)}{2!} + \\Delta t^3 \\frac{f^{\\prime\\prime\\prime}(t)}{3!}, \\tag{8a}$$\n",
        "\n",
        "$$f(t-\\Delta t) = f(t) - \\Delta t f^\\prime(t) + \\Delta t^2 \\frac{f^{\\prime\\prime}(t)}{2!} - \\Delta t^3 \\frac{f^{\\prime\\prime\\prime}(t)}{3!}. \\tag{8b}$$\n",
        "\n",
        "Now, by subtracting equation 8b from 8a we can obtain the following:\n",
        "\n",
        "$$f(t+\\Delta t) - f(t-\\Delta t) = 2 \\Delta t f^\\prime(t) + 2\\Delta t^3 \\frac{f^{\\prime\\prime\\prime}(t)}{3!}. \\tag{9a}$$\n",
        "\n",
        "Dividing through by $2\\Delta t$ and rearranging this expression yields:\n",
        "\n",
        "$$\\frac{f(t+\\Delta t)-f(t-\\Delta t)}{2\\Delta t} - f^\\prime(t) = \\Delta t^2 \\frac{f^{\\prime\\prime\\prime}(t)}{3!}. \\tag{9b}$$\n",
        "\n",
        "Unlike equation 7, you'll notice that the right-hand side error term is now proportional to $\\Delta t^2$. Thus, this represents a **second-order centered approximation** of $f^\\prime(t)$.  Here, we use the term **centered** because this expression depends on an equal number of points before ($t-\\Delta t)$ and after ($t+\\Delta t)$ the point being evaluated ($t$).\n",
        "\n",
        "Can we go even higher? The answer is yes; however, the mathematics get a bit more tedious.  I'll show a **fourth-order approximation** can be derived.\n",
        "\n",
        "$$\n",
        "\\begin{eqnarray}\n",
        "f(t+\\Delta t) &=& f(t) + \\Delta t f^\\prime(t) + \\Delta t^2 \\frac{f^{\\prime\\prime}(t)}{2!} + \\Delta t^3 \\frac{f^{\\prime\\prime\\prime}(t)}{3!}+ \\Delta t^4 \\frac{f^{(4)}(t)}{4!}+ \\Delta t^5 \\frac{f^{(5)}(t)}{5!},\\tag{10a} \\\\\n",
        "f(t-\\Delta t) &=& f(t) - \\Delta t f^\\prime(t) + \\Delta t^2 \\frac{f^{\\prime\\prime}(t)}{2!} - \\Delta t^3 \\frac{f^{\\prime\\prime\\prime}(t)}{3!}+ \\Delta t^4 \\frac{f^{(4)}(t)}{4!}- \\Delta t^5 \\frac{f^{(5)}(t)}{5!},\\tag{10b} \\\\\n",
        "f(t+2\\Delta t) &=& f(t) + 2\\Delta t f^\\prime(t) + 4\\Delta t^2 \\frac{f^{\\prime\\prime}(t)}{2!} + 8\\Delta t^3 \\frac{f^{\\prime\\prime\\prime}(t)}{3!}+ 16\\Delta t^4 \\frac{f^{(4)}(t)}{4!}+ 32\\Delta t^5 \\frac{f^{(5)}(t)}{5!},\\tag{10c}\\\\\n",
        "f(t-2\\Delta t) &=& f(t) - 2\\Delta t f^\\prime(t) + 4\\Delta t^2 \\frac{f^{\\prime\\prime}(t)}{2!} - 8\\Delta t^3 \\frac{f^{\\prime\\prime\\prime}(t)}{3!}+ 16\\Delta t^4 \\frac{f^{(4)}(t)}{4!}- 32\\Delta t^5 \\frac{f^{(5)}(t)}{5!},\\tag{10d}\\\\\n",
        "\\end{eqnarray}$$\n",
        "\n",
        "If we first subtract equation 10b from 10a and multiply by 8 we obtain:\n",
        "\n",
        "$$8f(t+\\Delta t)-8f(t-\\Delta t) = 16 \\Delta t f^\\prime(t)+\\frac{16\\Delta t^3}{3!}f^{\\prime\\prime\\prime}(t)+\\frac{16\\Delta t^5}{5!}f^{(5)}(t). \\tag{10e}$$\n",
        "\n",
        "where the purpose of the factor of 8 is to get the value of 16 in the $\\Delta t^3$ term. If we then subtract equation 10d from 10c we obtain:\n",
        "\n",
        "$$f(t+2\\Delta t)-f(t-2\\Delta t) = 4 \\Delta t f^\\prime(t)+\\frac{16\\Delta t^3}{3!}f^{\\prime\\prime\\prime}(t)+\\frac{64\\Delta t^5}{5!}f^{(5)}(t). \\tag{10f}$$\n",
        "\n",
        "Now we see that the $\\Delta t^3$ coefficients match and can be easily eliminated.  Subtracting equation 10e from 10f obtains:\n",
        "\n",
        "$$f(t+2\\Delta t)-8f(t+\\Delta t)+8f(t-\\Delta t)-f(t-2\\Delta t) = - 12 \\Delta t f^\\prime(t) + \\frac{48\\Delta t^5}{5!}f^{(5)}.\\tag{10g} $$\n",
        "\n",
        "Finally, dividing through by $-12 \\Delta t$ yields:\n",
        "\n",
        "$$\\frac{-f(t+2\\Delta t)+8f(t+\\Delta t)-8f(t-\\Delta t)+f(t-2\\Delta t)}{12 \\Delta t} -  f^\\prime(t) = \\frac{4\\Delta t^4}{5!}f^{(5)}. \\tag{10g} $$\n",
        "\n",
        "Thus, after all of this math, we see that the right-hand side error term is proportional to $\n",
        "\\Delta t^4$. Thus, equation 10g represents a **fourth-order centered approximation** of $f^\\prime(t)$.  There are other expressions for higher-order approximations as well; however, these get much much more tedious ..."
      ]
    },
    {
      "cell_type": "markdown",
      "metadata": {
        "id": "BUR8ggzouS5H"
      },
      "source": [
        "### A Simplifying Notation\n",
        "\n",
        "Writing equation 10g in the full form can also be tedious; however, there is a fairly **compact** and general way to represent **nth-order centered approximations** (where $n$ is an even integer) of the first derivative:\n",
        "\n",
        "$$f^\\prime(t) \\approx \\frac{1}{\\Delta t}\\sum_{k=-n/2}^{n/2} c_k f(t+k\\Delta t), \\tag{11}$$\n",
        "\n",
        "where $c_k$ are [finite-difference coefficients](https://en.wikipedia.org/wiki/Finite_difference_coefficient).  Thus, for equation 10g, if we set $n=4$ in equation 11 and then define $c_k = [c_{-2},c_{-1},c_0,c_1,c_2] = [\\frac{1}{12},-\\frac{2}{3},0,\\frac{2}{3},-\\frac{1}{12}]$, we see that equation 11 can represent equation 10g.\n",
        "\n",
        "A more complete list for second- through eight-order approximations are given in Table 1 below.  You'll notice that all of the coefficients are **odd** such that $c_{-k}=-c_k$.\n",
        "\n",
        "Derivative|Accuracy| −4\t | −3   | −2 |\t−1 | 0 | 1 |  2  |  3  | 4\n",
        "----------|--------|-----|------|----|-----|---|---|-----|-----|---\n",
        "1         |\t  2\t   | 0   |  0   |0   |−1/2 | 0 |1/2| 0   | 0   |0\n",
        "1         |   4\t   |0    |\t0   |1/12|−2/3 | 0 |2/3|−1/12|\t0   |0\n",
        "1         |   6\t   |0    |−1/60 |3/20|−3/4 | 0 |3/4|−3/20|1/60 | 0\n",
        "1         |   8\t   |1/280|−4/105|1/5 |−4/5 | 0 |4/5| −1/5|4/105| −1/280\n",
        "\n",
        "**Table 1. List of finite-difference coefficients for centered first derivatives corresponding to the compact notation in equation 11.  Note that to apply these in an actual implementation you will need to divide by $\\Delta t$.**\n",
        "\n",
        "Finally, if you went to the webpage [finite-difference coefficients](https://en.wikipedia.org/wiki/Finite_difference_coefficient), you may have noticed that there also also one-sided version of finite-difference coefficients.  These are not commonly used; however, they do have applications in some problems when one is trying to apply high-order finite-difference approximations near computational domain boundaries."
      ]
    },
    {
      "cell_type": "markdown",
      "metadata": {
        "id": "y9x8K6nouS5H"
      },
      "source": [
        "## Higher-order derivatives\n",
        "\n",
        "So far we have just been discussing approximations for first derivatives; however, in the following modules we will be definitely be needing numerical expressions for second derivatives.  To see how approximations for $f^{\\prime\\prime}(t)$ can be generated, let's again start with equations 8a and 8b:\n",
        "\n",
        "$$f(t+\\Delta t) = f(t) + \\Delta t f^\\prime(t) + \\Delta t^2 \\frac{f^{\\prime\\prime}(t)}{2!} + \\Delta t^3 \\frac{f^{\\prime\\prime\\prime}(t)}{3!}+ \\Delta t^4 \\frac{f^{(4)}(t)}{4!}, \\tag{12a}$$\n",
        "\n",
        "$$f(t-\\Delta t) = f(t) - \\Delta t f^\\prime(t) + \\Delta t^2 \\frac{f^{\\prime\\prime}(t)}{2!} - \\Delta t^3 \\frac{f^{\\prime\\prime\\prime}(t)}{3!}+\\Delta t^4 \\frac{f^{(4)}(t)}{4!}. \\tag{12b}$$\n",
        "\n",
        "We can now add these two expressions (rather than subtract them) to yield:\n",
        "\n",
        "$$f(t+\\Delta t) + f(t-\\Delta t)= 2 f(t) + 2\\Delta t^2 \\frac{f^{\\prime\\prime}(t)}{2!}+ 2\\Delta t^4 \\frac{f^{(4)}(t)}{4!}. \\tag{13a}$$\n",
        "\n",
        "Rearranging terms, cancelling out 2/(2!), and dividing through by $\\Delta t^2$ results in\n",
        "\n",
        "$$\\frac{f(t+\\Delta t) -2f(t) + f(t-\\Delta t)}{\\Delta t^2} - f^{\\prime\\prime}(t) = \\frac{\\Delta t^2}{12} f^{(4)}(t). \\tag{13b}$$\n",
        "\n",
        "Thus, the expression in equation 13b represents a **second-order centered approximation** of $f^{\\prime\\prime}(t)$.\n",
        "\n",
        "As one might expect from the section above, one can manipulate the Taylor-series expansions in order to create **higher-order** second derivatives.\n",
        "\n",
        "A more complete list for second- through eight-order approximations for second derivatives are given in Table 2 below (again from [finite-difference coefficients](https://en.wikipedia.org/wiki/Finite_difference_coefficient)).  You'll notice that all of the coefficients are **even** such that $c_{-k}=c_k$.\n",
        "\n",
        "Derivative|Accuracy| −4\t  | −3   | −2  |  −1 |  0    | 1 |  2  |  3   | 4\n",
        "----------|--------|------|------|-----|-----|------ |---|-----|------|---\n",
        "2         |\t  2\t   |\t0 |   0  |0    | 1   | -2    | 1 | 0   |  0   |0\n",
        "2         |   4\t   |\t0 |\t0    |-1/12|4/3  | -5/2  |4/3|−1/12|\t0  |0\n",
        "2         |   6\t   |0     | 1/90 |-3/20| 3/2 |-49/18 |3/2|−3/20|1/90  | 0\n",
        "2         |   8\t   |-1/560|8/315 |-1/5 |8/5  |-205/72|8/5| −1/5| 8/315| −1/560\n",
        "\n",
        "**Table 2. List of finite-difference coefficients for centered second derivatives corresponding to the compact notation in equation 11. Note that to apply these in an actual implementation you will need to divide by $\\Delta t^2$.**\n"
      ]
    },
    {
      "cell_type": "markdown",
      "metadata": {
        "id": "o-czpF2TuS5I"
      },
      "source": [
        "### Note on implementing stencils\n",
        "\n",
        "One way to apply these stencils is through a convolution operation.  However, if these were truly convolution then we would expect the following equation:\n",
        "\n",
        "$$f^\\prime(t) \\approx \\frac{1}{\\Delta t}\\sum_{k=-n/2}^{n/2} c_{-k} f(t+k\\Delta t), $$\n",
        "\n",
        "where the coefficients are reversed.  Thus, if you have a time-series trace (*trace* below) and want to apply a FD stencil (*FDstencil* below) then you would need to implement\n",
        "\n",
        "\n",
        "   * *numpy.convolve(trace, FDstencil[::-1], mode='same')*\n",
        "\n",
        "\n",
        "where *FDstencil[::-1]* effectively reverses the stencil array.\n",
        "\n",
        "Let's look at an example using an $O(\\Delta t^2)$ first derivative below using sin and cosine functions:"
      ]
    },
    {
      "cell_type": "code",
      "execution_count": null,
      "metadata": {
        "id": "JI5SYBWEuS5I",
        "outputId": "8d9f24ad-80db-498d-bad6-5e9546ba1a98"
      },
      "outputs": [
        {
          "data": {
            "image/png": "[encoded data removed]",
            "text/plain": [
              "<Figure size 720x360 with 1 Axes>"
            ]
          },
          "metadata": {
            "needs_background": "light"
          },
          "output_type": "display_data"
        }
      ],
      "source": [
        "nt,dt=1001,0.001\n",
        "t = np.arange(nt)*dt\n",
        "\n",
        "f = np.sin(2*np.pi*t)\n",
        "dfdt_true = 2*np.pi*np.cos(2*np.pi*t)\n",
        "\n",
        "## . . First-order first derivative stencil fom Table 7-1\n",
        "FDstencil = [-1/2,0,1/2]\n",
        "\n",
        "## . . With reversed stencil\n",
        "dfdt_good = np.convolve(f,FDstencil[::-1],mode=\"same\") / dt #<--- divide by dt!\n",
        "\n",
        "## Treat ends (zero slope)\n",
        "dfdt_good[0]=dfdt_good[1]\n",
        "dfdt_good[nt-1]=dfdt_good[nt-2]\n",
        "\n",
        "## . . Without reversed stencil\n",
        "dfdt_bad  = np.convolve(f,FDstencil      ,mode=\"same\") / dt #<--- divide by dt!\n",
        "\n",
        "## Treat ends (zero slope)\n",
        "dfdt_bad[0]=dfdt_bad[1]\n",
        "dfdt_bad[nt-1]=dfdt_bad[nt-2]\n",
        "\n",
        "plt.figure(figsize=(10,5))\n",
        "plt.plot(t,f,'k-',Linewidth=2)\n",
        "plt.plot(t,dfdt_true,'b-',Linewidth=5)\n",
        "plt.plot(t,dfdt_good,'y--',Linewidth=3)\n",
        "plt.plot(t,dfdt_bad,'r-',Linewidth=2)\n",
        "plt.legend(['f(t) = $Cos(2\\pi t)$','df(t)/dt = Analytic','df(t)/dt = Reversed','df(t)/dt = Not-reversed'])\n",
        "plt.xlabel('Time (s)')\n",
        "plt.ylabel('Amplitude')\n",
        "plt.show()"
      ]
    },
    {
      "cell_type": "markdown",
      "metadata": {
        "id": "yhgKo3JFuS5J"
      },
      "source": [
        "**Figure 1. Demonstration of the need to reverse filter coefficients when using *np.convolve()* statement.  The black line is the signal $f(t)=\\cos(2\\pi t)$ while the blue line is its analytic derivative $f^\\prime(t)=2\\pi \\sin(2\\pi t)$. The yellow line (falling on the blue line) is the numerical derivative with the reversed coefficients.  The red line is when you do not reverse the coeffcients. Note that I have divided by $\\Delta t$ in the code to obtain the correct amplitude scaling.**\n",
        "\n",
        "### Handling (Combinations of) Partial Derivatives\n",
        "\n",
        "In almost all cases we will be looking at solving PDEs that are of at least two variables (e.g., $U(x,t)$).  Thus, how do we approach discritzation in these scenarios? Actually, this case is pretty straightforward. Let's say that we're looking to obtain a discretized version of the following using a second-order approximation of the first spatial derivative.  This would imply that\n",
        "\n",
        "$$c\\frac{\\partial U(x,t)}{\\partial x} \\approx c\\left(\\frac{U(x+\\Delta x,t)-U(x-\\Delta x,t)}{2\\Delta x}\\right).\\tag{14a}$$\n",
        "\n",
        "Similarly, if we want to obtain a discretized version of the following using a second-order approximation of the first temporal derivative, this would imply that\n",
        "\n",
        "$$\\frac{\\partial U(x,t)}{\\partial t} \\approx \\frac{U(x,t+\\Delta t)-U(x,t-\\Delta t)}{2\\Delta t}.\\tag{14b}$$\n",
        "\n",
        "Thus, combining equations 14a and 14b, if wanted to have a discrete version of both partial derivatives, then we'd have\n",
        "\n",
        "$$\\frac{\\partial U(x,t)}{\\partial t} + c\\frac{\\partial U(x,t)}{\\partial x} \\approx \\frac{U(x,t+\\Delta t)-U(x,t-\\Delta t)}{2\\Delta t}+ c\\left( \\frac{U(x+\\Delta x,t)-U(x-\\Delta x,t)}{2\\Delta x}\\right). \\tag{14c} $$\n",
        "\n",
        "We see that the effective **partial differential operator** on the left-hand side generates the following pattern called a **finite-difference stencil** on the right-hand side that consists of the four points visualized in Figure 2 below."
      ]
    },
    {
      "cell_type": "code",
      "execution_count": null,
      "metadata": {
        "id": "OdhHT_UXuS5J",
        "outputId": "c5847af3-c385-43fb-e81a-b6bcc712e0fb"
      },
      "outputs": [
        {
          "data": {
            "image/png": "[encoded data removed]",
            "text/plain": [
              "<Figure size 432x432 with 1 Axes>"
            ]
          },
          "metadata": {
            "needs_background": "light"
          },
          "output_type": "display_data"
        }
      ],
      "source": [
        "plt.figure(figsize=(6,6))\n",
        "nx=ny=5\n",
        "x = np.arange(nx)\n",
        "y=np.zeros(ny)\n",
        "\n",
        "for iy in range(nx):\n",
        "    plt.plot(x,y,'ko')\n",
        "    y+=1\n",
        "plt.plot(1,2,'ro',ms=20)\n",
        "plt.plot(3,2,'ro',ms=20)\n",
        "plt.plot([1,3],[2,2],'r-',linewidth=5)\n",
        "plt.plot(2,1,'ro',ms=20)\n",
        "plt.plot(2,3,'ro',ms=20)\n",
        "plt.plot([2,2],[1,3],'r-',linewidth=5)\n",
        "\n",
        "plt.ylabel('Time Step: n',fontsize=16)\n",
        "plt.yticks(range(5),fontsize=16)\n",
        "plt.xlabel('Space Step: i',fontsize=16)\n",
        "plt.xticks(range(5),fontsize=16)\n",
        "plt.show()"
      ]
    },
    {
      "cell_type": "markdown",
      "metadata": {
        "id": "jKt6zE_cuS5J"
      },
      "source": [
        "**Figure 2. Example of a finite-difference stencil for the advection equation.**\n",
        "\n",
        "### Indicial Notation\n",
        "\n",
        "The notation on the right-hand side of equation 14c is a bit cumbersome because one has to write out all of the spatial and temporal dependences.  Thus, there is great advantage in developing some sort of short form. In this case we can switch to index notation where **subscript indices** represent the spatial coordinate (usually the letter $i$) and **superscript indices** represent the temporal coordinate (usually using the letter $n$).  Thus, we can rewrite equation 14c as the following:\n",
        "\n",
        "$$\\begin{eqnarray}\n",
        "\\frac{\\partial U(x,t)}{\\partial t} + c\\frac{\\partial U(x,t)}{\\partial x}&\\approx & \\frac{U(x,t+\\Delta t)-U(x,t-\\Delta t)}{2\\Delta t}+c\\left(\\frac{U(x+\\Delta x,t)-U(x-\\Delta x,t)}{2\\Delta x}\\right) \\\\\n",
        "&\\approx& \\frac{1}{2\\Delta t}\\left(U^{n+1}_{i}-U^{n-1}_{i}\\right)+\\frac{c}{2\\Delta x}\\left(U^n_{i+1}-U^n_{i-1}\\right), \\tag{15a}\n",
        "\\end{eqnarray}$$\n",
        "\n",
        "where in Figure 2 we have plotted the stencil for $[i,n]=[2,2]$. Note that compact notation easily can be extended to 2D (indicies $i,j$) or 3D (indicies $i,j,k$) spatial dimension scenarios using expressions like:\n",
        "\n",
        "$$\\begin{eqnarray}\n",
        "\\frac{\\partial U(x,y,z,t)}{\\partial t}+ c\\left(\\frac{\\partial U(x,y,z,t)}{\\partial x}+\\frac{\\partial U(x,y,z,t)}{\\partial y}+\\frac{\\partial U(x,y,z,t)}{\\partial z} \\right)\n",
        "\\approx &&\\\\\n",
        "\\frac{1}{2\\Delta t}\\left(U^{n+1}_{i,j,k}-U^{n-1}_{i,j,k}\\right)+ \\frac{c}{2\\Delta x}\\left(U^n_{i+1,j,k}-U^n_{i-1,j,k}\\right) + \\frac{c}{2\\Delta y}\\left(U^n_{i,j+1,k}-U^n_{i,j-1,k}\\right)+ \\frac{c}{2\\Delta z}\\left(U^n_{i,j,k+1}-U^n_{i,j,k-1}\\right),&& \\tag{15b}\n",
        "\\end{eqnarray} $$\n",
        "\n",
        "which is much more compact that writing out all of the variable dependencies!"
      ]
    },
    {
      "cell_type": "markdown",
      "metadata": {
        "id": "c69iJDqluS5J"
      },
      "source": [
        "# Discretizing the 1D Advection Equation\n",
        "\n",
        "One of the more straightforward PDEs to think about apply the above numerical derivative schemes to is the [advection equation](https://en.wikipedia.org/wiki/Advection).  This equation represents the transport of a substance or quantity by bulk motion. For example, the advection of pollutants or silt down a river. (Note that this is different than [convection](https://en.wikipedia.org/wiki/Convection) which combines advection with diffusion, which is a much more complex process to model.)\n",
        "\n",
        "The PDE governing advection of, say, a pollutant in a stream $U=U(x,t)$ can be represented  by:\n",
        "\n",
        "$$\n",
        "\\begin{eqnarray}\n",
        "{\\rm PDE:} & \\quad & \\frac{\\partial U}{\\partial t}+c\\frac{\\partial U}{\\partial x} = 0, \\quad x\\in[0,1], \\quad t\\in[0,1] \\tag{16a}\\\\\n",
        "{\\rm Initial\\, Condition:} & \\quad & U(x,t=0)= e^{-(x-0.5)^2/\\sigma^2}\\tag{16b}\\\\\n",
        "{\\rm Boundary\\, Conditions:} & \\quad & U(x=0,t) = 0,  U(x=1,t) = 0\\tag{16c}\n",
        "\\end{eqnarray}\n",
        "$$\n",
        "\n",
        "where $c$ is the speed of the material transport (e.g., rate of water flow).  Note that we are solving the advection problem on a solution domain $x\\in[0,1]$ and $t\\in[0,1]$ and have imposed initial condition such that $U(x,t=0)= e^{-(x-0.5)^2/\\sigma}$ (where here $\\sigma=10$) and for the boundaries $U(x=0,t)=0$ and $U(x=1,t)=0$."
      ]
    },
    {
      "cell_type": "markdown",
      "metadata": {
        "id": "1sqLEX6LuS5J"
      },
      "source": [
        "## Analytic Solution\n",
        "\n",
        "Let's first remind ourselves what the **general** solution to the PDE actually is (ignoring the boundary conditions for now). To obtain the solution we can follow the **separation of variables** approach.  First, assume that the general solution $U(x,t)$ may be represented as the product of two functions, one purely of space $X(x)$ and the other purely of time $T(t)$.  Thus, $U(x,t)=X(x)T(t)$.  Let's now put this into equation 16a above to get:\n",
        "\n",
        "$$XT^\\prime+ c T X^\\prime = 0 \\tag{17a}$$\n",
        "\n",
        "We can now divide through by $-cXT$ and rearrange the above to yield\n",
        "\n",
        "$$-\\frac{T^\\prime}{cT} = \\frac{X^\\prime}{X} = ik, \\tag{17b}$$\n",
        "\n",
        "where the third equality represents the **separation constant** and $k$ is the wavenumber.  Let's now write the two equations of a single variable (and thus ODEs):\n",
        "\n",
        "$$\\begin{eqnarray}\n",
        "X^\\prime &=& ik X \\tag{17c} \\\\\n",
        "T^\\prime &=& -ikc T \\tag{17c} \\\\\n",
        "\\end{eqnarray}$$\n",
        "\n",
        "The solutions to these two equations are $X = Ae^{ikx}$ and $T=Be^{-ickt}$ and thus the general solution is given by:\n",
        "\n",
        "$$U(x,t) = Ce^{ik(x-ct)},\\tag{17e}$$\n",
        "\n",
        "where I have used $C=AB$.  Thus, the interpretation of this analytic solution is that the **general solution should travel at velocity c to the left or right** depending on whether $c$ is positive or negative, but it **should not change shape**.  To get the actual specific solution satisfying the initial and boundary conditions would require superimposing different Fourier solutions weighted by the difference coefficients $C_n$; however, this discussion goes beyond the scope of the current presentation."
      ]
    },
    {
      "cell_type": "markdown",
      "metadata": {
        "collapsed": true,
        "id": "FPPVfuj4uS5J"
      },
      "source": [
        "## Numerical Solutions\n",
        "\n",
        "Let's now say that we are looking to solve this equation numerically on a \"grid\" or \"mesh\".  In this case we have to choose our **discretization interval**, which effectively is how we sample our numerical solution grid in space and time.  Let's say that we choose $\\Delta t = 0.04$ s and $\\Delta x = 0.04$ m as our time and space discretization intervals. Since our domains are defined by $x\\in[0,1]$ and $t\\in[0,1]$, this means that we have $N_t \\times N_x = I \\times N = 26 \\times 26$ grid points in our numerical solution.\n",
        "\n",
        "To illustrate the solution grids, I plot its graphical representation in Figure 3 below. Here, I've jsed two different colors: (1) the green circles are those points on the solution grid where we already know the solution (i.e., because of the initial and boundary conditions); and (2) the black circles are those points in the solution domain where the solution is unknown. Thus, the goal of computing the finite-difference solution of the PDE is to use the *known* information that is currently defined on the green points to calculate *unknown* quantities on the black points."
      ]
    },
    {
      "cell_type": "code",
      "execution_count": null,
      "metadata": {
        "id": "UcLD3uneuS5J",
        "outputId": "7ab74562-c22b-48b4-bec9-7bca6d1548b3"
      },
      "outputs": [
        {
          "data": {
            "image/png": "[encoded data removed]",
            "text/plain": [
              "<Figure size 432x432 with 1 Axes>"
            ]
          },
          "metadata": {
            "needs_background": "light"
          },
          "output_type": "display_data"
        }
      ],
      "source": [
        "plt.figure(figsize=(6,6))\n",
        "nx=ny=26\n",
        "x = np.arange(nx)/(nx-1)\n",
        "y=np.zeros(ny)\n",
        "\n",
        "for iy in range(nx):\n",
        "    plt.plot(x,y,'ko')\n",
        "    y+=1/(nx-1)\n",
        "plt.plot(x,np.zeros(ny),'go',ms=10)\n",
        "plt.plot(np.zeros(ny),x,'go',ms=10)\n",
        "plt.plot(np.zeros(ny)+1,x,'go',ms=10)\n",
        "plt.ylabel('Time (s)',fontsize=16)\n",
        "plt.xlabel('Space (m)',fontsize=16)\n",
        "plt.title('Solution space for 1D Advection Problem',fontsize=20)\n",
        "plt.show()"
      ]
    },
    {
      "cell_type": "markdown",
      "metadata": {
        "id": "iuEKSsGDuS5K"
      },
      "source": [
        "**Figure 3. Solution domain $D$ for the advection equation at discete solution points $u_{i}^n$. The green dots are the locations where the solution is known because of the initial and boundary conditions. The black dots represent locations where the solution is unknown.**\n",
        "\n",
        "### Solution by *explicit* FTCS method\n",
        "\n",
        "Let's now think about how we are going to discretize the partial derivatives in equation 16a.  We'll start with what a Forward in Time and Centered in Space (or FTCS) method.  To compute such a solution we need to use a **first-order forward difference** in time at each spatial grid point $i$:\n",
        "\n",
        "$$\\frac{\\partial U}{\\partial t} \\approx \\frac{U^{n+1}_i - U^{n}_i}{\\Delta t}, \\tag{18a}$$\n",
        "\n",
        "and then use a **second-order centered difference** in space at each temporal grid point $n$:\n",
        "\n",
        "$$\\frac{\\partial U}{\\partial x} \\approx \\frac{U^{n}_{i+1} - U^{n}_{i-1}}{2\\Delta x}. \\tag{18b}$$\n",
        "\n",
        "We can now use these approximations to generate a **finite-difference stencil** representing the 1D advection PDE in equation 16a\n",
        "\n",
        "$$ \\frac{U^{n+1}_i - U^{n}_i}{\\Delta t}  + c \\left(\\frac{U^{n}_{i+1} - U^{n}_{i-1}}{2\\Delta x} \\right)=0, \\tag{18c}$$\n",
        "\n",
        "that is first-order accurate in time and second-order accurate in space. A compact way to write this level of accuracy is $\\mathcal{O}\\left(\\Delta t, \\Delta x^2  \\right)$.\n",
        "\n",
        "If, for a moment, we assume that $n=0$, we see that we know all of the quantities in equation 17c - except for the value of $U^{n+1}_{i}$.  Thus, let's multiply both sides by $\\Delta t$ and rearrange equation 17c where all of the unknown terms at time points $n+1$ are on the left and all the known terms at time points $n$ are on the right:\n",
        "\n",
        "$$U^{n+1}_i  =  U^{n}_i -\\frac{c\\Delta t}{2\\Delta x}\\left(U^{n}_{i+1} - U^{n}_{i-1}\\right), \\tag{18d}$$\n",
        "\n",
        "or if we define a dimensionless quantity $\\gamma_{FTCS} = \\frac{c\\Delta t}{2\\Delta x}$, then we have:\n",
        "\n",
        "$$U^{n+1}_i  =  U^{n}_i -\\gamma_{FTCS} \\left(U^{n}_{i+1} - U^{n}_{i-1}\\right). \\tag{18e}$$\n",
        "\n",
        "Because the only unknown grid point is **explictly** defined by all of the other points, this type of approach is called an **explict finite-difference solution.** Graphically, this stencil centered about $[i,n]=[2,2]$ looks like the following:"
      ]
    },
    {
      "cell_type": "code",
      "execution_count": null,
      "metadata": {
        "id": "Q22ucm7SuS5K",
        "outputId": "3f3cfaa2-c75d-4354-dccc-b959e7e4572a"
      },
      "outputs": [
        {
          "data": {
            "image/png": "[encoded data removed]",
            "text/plain": [
              "<Figure size 432x432 with 1 Axes>"
            ]
          },
          "metadata": {
            "needs_background": "light"
          },
          "output_type": "display_data"
        }
      ],
      "source": [
        "plt.figure(figsize=(6,6))\n",
        "nx=ny=5\n",
        "x = np.arange(nx)\n",
        "y=np.zeros(ny)\n",
        "\n",
        "for iy in range(nx):\n",
        "    plt.plot(x,y,'ko')\n",
        "    y+=1\n",
        "\n",
        "# . . Solution at point i\n",
        "plt.plot(1,2,'go',ms=20)\n",
        "plt.plot(3,2,'go',ms=20)\n",
        "plt.plot([1,3],[2,2],'g-',linewidth=5)\n",
        "plt.plot(2,2,'go',ms=20)\n",
        "plt.plot([2,2],[2,3],'g-',linewidth=5)\n",
        "plt.plot(2,3,'ro',ms=20)\n",
        "\n",
        "plt.ylabel('Time Step: n',fontsize=16)\n",
        "plt.yticks(range(5),fontsize=16)\n",
        "plt.xlabel('Space Step: i',fontsize=16)\n",
        "plt.xticks(range(5),fontsize=16)\n",
        "\n",
        "plt.title('Explict Stencil at point [i,n]=[2,2]',fontsize=20)\n",
        "plt.show()"
      ]
    },
    {
      "cell_type": "markdown",
      "metadata": {
        "id": "QbN_iRKhuS5K"
      },
      "source": [
        "**Figure 4. Explicit stencil for a FTSC solution of the advection equation.  Known points are given in green while the unknown point is in red that is calculated from the points in green (and velocity c as well as discretizations $\\Delta t$ and $\\Delta x$).**\n",
        "\n",
        "Here, the known values in green (and velocity $c$ as well as discretizations $\\Delta t$ and $\\Delta x$) are used to calculate the single unknown value in red.  In Figure 4 I have simply illustrated the **stencil** at point $[i,n]=[2,2]$; however, this **stencil** is also applicable to all of the other points in the grid.  For example, one can think of stencils at neighbouring points  $[i,n]=[1,2]$ and  $[i,n]=[3,2]$ to be very similar, as is illustrated in Figure 5."
      ]
    },
    {
      "cell_type": "code",
      "execution_count": null,
      "metadata": {
        "id": "KyheuqdpuS5K",
        "outputId": "af810278-9453-4c6c-a80d-d8e4b9656a01"
      },
      "outputs": [
        {
          "data": {
            "image/png": "[encoded data removed]",
            "text/plain": [
              "<Figure size 432x432 with 1 Axes>"
            ]
          },
          "metadata": {
            "needs_background": "light"
          },
          "output_type": "display_data"
        }
      ],
      "source": [
        "plt.figure(figsize=(6,6))\n",
        "nx=ny=5\n",
        "x = np.arange(nx)\n",
        "y=np.zeros(ny)\n",
        "\n",
        "for iy in range(nx):\n",
        "    plt.plot(x,y,'ko')\n",
        "    y+=1\n",
        "\n",
        "# . . Solution at point i\n",
        "plt.plot(1,2,'ro',ms=20)\n",
        "plt.plot(3,2,'ro',ms=20)\n",
        "plt.plot([1,3],[2,2],'r-',linewidth=5)\n",
        "plt.plot(2,2,'ro',ms=20)\n",
        "plt.plot(2,3,'ro',ms=20)\n",
        "plt.plot([2,2],[2,3],'r-',linewidth=5)\n",
        "\n",
        "# . . Solution at point i-1\n",
        "plt.plot(0,2,'go',ms=10)\n",
        "plt.plot(2,2,'go',ms=10)\n",
        "plt.plot([0,2],[2,2],'g-',linewidth=5)\n",
        "plt.plot(1,2,'go',ms=10)\n",
        "plt.plot(1,3,'go',ms=10)\n",
        "plt.plot([1,1],[2,3],'g-',linewidth=5)\n",
        "\n",
        "# . . Solution at point i+1\n",
        "plt.plot(2,2,'bo',ms=10)\n",
        "plt.plot(4,2,'bo',ms=10)\n",
        "plt.plot([2,4],[2,2],'b-',linewidth=5)\n",
        "plt.plot(3,2,'bo',ms=10)\n",
        "plt.plot(3,3,'bo',ms=10)\n",
        "plt.plot([3,3],[2,3],'b-',linewidth=5)\n",
        "\n",
        "plt.ylabel('Time Step',fontsize=16)\n",
        "plt.xlabel('Space Step',fontsize=16)\n",
        "plt.title('Explict Stencil',fontsize=20)\n",
        "plt.show()"
      ]
    },
    {
      "cell_type": "markdown",
      "metadata": {
        "id": "TgrtNZYquS5K"
      },
      "source": [
        "**Figure 5. Illustration of a stencil.  The green and blue stencils are identical to the red one, except that they are shifted the the left and right by one grid point.**\n",
        "\n",
        "In fact, this is why it is called a **stencil**: you can move it around the computational mesh, but the shape doesn't change!\n",
        "\n",
        "Let's now look at a numerical solution. Here, I using a solution grid of $x\\in [0,1]$ that is discretized by $nx=101$ points with a spacing of $dx=0.01$."
      ]
    },
    {
      "cell_type": "code",
      "execution_count": null,
      "metadata": {
        "id": "ioCKxNpvuS5K"
      },
      "outputs": [],
      "source": [
        "## . . Advection equation solver\n",
        "def Advection_FTCS_Solution(U,vx,dx,dt,LB,RB):\n",
        "    '''Set up FTCS Advection soluton\n",
        "    usage: U = Advection_FTCS_Solution(U,vx,dx,dt,LB,RB):\n",
        "    input:\n",
        "        U : Solution at time step n (nx)\n",
        "        vx: advection velocity\n",
        "        dx: spatial sampling\n",
        "        dt: temporal sampling\n",
        "        LB: Left  boundary condition (Dirchelet)\n",
        "        RB: Right boundary condition (Dirchelet)\n",
        "    output:\n",
        "        U: heat solution at time step n+1(nx)\n",
        "    depends on:\n",
        "        nothing\n",
        "\n",
        "    written by Jeff Shragge, jshragge@mines.edu, 10/2019\n",
        "    '''\n",
        "    nx = len(U)\n",
        "    gamma_FTCS =  vx*dt/(2*dx)\n",
        "\n",
        "    U[1:nx-1] = U[1:nx-1]-gamma_FTCS*(U[2:nx]-U[0:nx-2]) # . . Writes over itself\n",
        "    U[0     ] = LB # . . Enforce left  boundary condition\n",
        "    U[nx-1  ] = RB # . . Enforce right boundary condition\n",
        "    return U"
      ]
    },
    {
      "cell_type": "code",
      "execution_count": null,
      "metadata": {
        "id": "hwEpdNLjuS5K"
      },
      "outputs": [],
      "source": [
        "## . . Define advection animator once and call throughout\n",
        "def advection_animate(i):\n",
        "    global k\n",
        "    ax1.clear()\n",
        "    ax1.plot(xx,c[:,k],color='cyan')\n",
        "    ax1.grid(True)\n",
        "    ax1.set_xlim([xmin,xmax])\n",
        "    ax1.set_ylim([-1.5,1.5])\n",
        "    ax1.set(xlabel='Distance (m)',ylabel='Amplitude')\n",
        "    k += kskip"
      ]
    },
    {
      "cell_type": "code",
      "execution_count": null,
      "metadata": {
        "id": "jBwF_8P3uS5L",
        "outputId": "7322391b-41f8-4633-e0e4-d4ef32f12fa8"
      },
      "outputs": [
        {
          "data": {
            "text/html": [
              "\n",
              "<video width=\"500\" controls style=\"display:block; margin:0 auto;\">\n",
              "  <source src=\"./movies/Ex3_1.mp4\" type=\"video/mp4\">\n",
              "</video>\n"
            ],
            "text/plain": [
              "<IPython.core.display.HTML object>"
            ]
          },
          "execution_count": 9,
          "metadata": {},
          "output_type": "execute_result"
        }
      ],
      "source": [
        "## . . Time axis parameters\n",
        "nt,dt=151,0.01\n",
        "\n",
        "## . . Space axis parameters\n",
        "xmin,xmax=0,1\n",
        "nx=101\n",
        "xx = np.linspace(xmin,xmax,nx)\n",
        "dx = xx[1]-xx[0]\n",
        "\n",
        "## . . Initial Condition\n",
        "sigma=0.1\n",
        "midpoint = (xmax-xmin)/2\n",
        "U = np.zeros(np.size(xx))\n",
        "U = np.exp(-(xx-midpoint)**2/sigma**2)\n",
        "\n",
        "## . . FD paramters\n",
        "#vx = 1.0   # velocity\n",
        "vx = 0.6  # velocity\n",
        "LB = RB = 0 # Boundary conditions on left and right\n",
        "\n",
        "c = np.zeros((nx,nt))\n",
        "for it in range(nt):\n",
        "    U = Advection_FTCS_Solution(U,vx,dx,dt,LB,RB)\n",
        "    c[:,it]=U\n",
        "\n",
        "k = 0\n",
        "kskip = 3\n",
        "\n",
        "## . . Set up movie\n",
        "fig1,ax1 = plt.subplots(1)\n",
        "fig1.subplots_adjust(0.1,0.1,0.9,0.9)\n",
        "fig1.set_dpi(100)\n",
        "\n",
        "## . . Call the animator.\n",
        "#!rm -f movies/Ex3_1.mp4\n",
        "anim1 = animation.FuncAnimation(fig1,advection_animate,frames=int((nt-kskip)/kskip),interval=100)\n",
        "anim1.save('./movies/Ex3_1.mp4')\n",
        "plt.close()\n",
        "\n",
        "HTML(\"\"\"\n",
        "<video width=\"500\" controls style=\"display:block; margin:0 auto;\">\n",
        "  <source src=\"./movies/Ex3_1.mp4\" type=\"video/mp4\">\n",
        "</video>\n",
        "\"\"\")"
      ]
    },
    {
      "cell_type": "markdown",
      "metadata": {
        "id": "zdaZcptSuS5L"
      },
      "source": [
        "**Figure 6. FTSC solution of the advection equation for a right-going wave. Note that this because unstable as the wave disturbance progresses toward the boundary.**\n",
        "\n",
        "This is evidently not the solution that we're looking for! While we do see that there is a right-going wave, there appears to be some strong **numerical instability** that makes this solution approach look undesirable.  Let's now run it again with a negative velocity."
      ]
    },
    {
      "cell_type": "code",
      "execution_count": null,
      "metadata": {
        "id": "PiRyR7eSuS5L",
        "outputId": "144c00b1-ade1-4d7c-ceae-50171d9cec48"
      },
      "outputs": [
        {
          "data": {
            "text/html": [
              "\n",
              "<video width=\"500\" controls style=\"display:block; margin:0 auto;\">\n",
              "  <source src=\"./movies/Ex3_2.mp4\" type=\"video/mp4\">\n",
              "</video>\n"
            ],
            "text/plain": [
              "<IPython.core.display.HTML object>"
            ]
          },
          "execution_count": 10,
          "metadata": {},
          "output_type": "execute_result"
        }
      ],
      "source": [
        "## . . Time axis parameters\n",
        "nt,dt=101,0.01\n",
        "\n",
        "## . . Space axis parameters\n",
        "xmin,xmax=0,1\n",
        "nx=101\n",
        "xx = np.linspace(xmin,xmax,nx)\n",
        "dx = xx[1]-xx[0]\n",
        "\n",
        "## . . Initial Condition\n",
        "sigma=0.1\n",
        "midpoint = (xmax-xmin)/2\n",
        "U = np.zeros(np.size(xx))\n",
        "U = np.exp(-(xx-midpoint)**2/sigma**2)\n",
        "\n",
        "## . . FD paramters\n",
        "vx = -1.0 # velocity\n",
        "#vx = -0.6 # velocity\n",
        "LB = RB = 0 # Boundary conditions on left and right\n",
        "\n",
        "c = np.zeros((nx,nt))\n",
        "for i in range(nt):\n",
        "    U = Advection_FTCS_Solution(U,vx,dx,dt,LB,RB)\n",
        "    c[:,i]=U\n",
        "\n",
        "k = 0\n",
        "kskip = 3\n",
        "\n",
        "## . . Set up movie\n",
        "fig2,ax1 = plt.subplots(1)\n",
        "fig2.subplots_adjust(0.1,0.1,0.9,0.9)\n",
        "fig2.set_dpi(100)\n",
        "\n",
        "## . . Call the animator.\n",
        "anim2 = animation.FuncAnimation(fig2,advection_animate,frames=int((nt-kskip)/kskip),interval=100)\n",
        "anim2.save('./movies/Ex3_2.mp4')\n",
        "plt.close()\n",
        "\n",
        "HTML(\"\"\"\n",
        "<video width=\"500\" controls style=\"display:block; margin:0 auto;\">\n",
        "  <source src=\"./movies/Ex3_2.mp4\" type=\"video/mp4\">\n",
        "</video>\n",
        "\"\"\")"
      ]
    },
    {
      "cell_type": "markdown",
      "metadata": {
        "id": "ZLuEFL7zuS5L"
      },
      "source": [
        "**Figure 7. FTSC solution of the advection equation for a left-going wave. Note that this because unstable as the wave disturbance progresses toward the boundary.**\n",
        "\n",
        "While we now have a left-going wave, it again exhibits the same type of instability.  Let's explore why this might be happening using a Fourier-domain approach.\n",
        "\n",
        "## Von Neumann Stability Analysis\n",
        "\n",
        "In numerical analysis, the von Neumann stability analysis method can be used to examine the **conditions for stability** for linear PDEs.  The main idea is that we want to ensure that the difference between the true solution $U_{T}$ and numerical solution $U$ - that is the **numerical error** $\\epsilon^n$ (where $n$ is the nth time step of solution) - does not grow exponentially in time.  In particular, one wants to ensure that the ratio of the absolute error squared (a measure of **energy**) at time step $n+1$ to that at $n$ is less than or equal to one:\n",
        "\n",
        "$$g^2=\\left|\\frac{\\epsilon^{n+1}}{\\epsilon^n}\\right|^2 \\le 1, \\tag{19a}$$\n",
        "\n",
        "where $g$ is known as the **amplication factor**.  \n",
        "\n",
        "Let's first say that the error term at time step $n+1$ satisfies the discretization itself such that:\n",
        "\n",
        "$$\\epsilon^{n+1}_i = \\epsilon^n_i-\\frac{c \\Delta t}{2\\Delta x}\\left(\\epsilon^n_{i+1}-\\epsilon^n_{i-1}\\right), \\tag{19b}$$\n",
        "\n",
        "while the error term at time step $n$ is given by $\\epsilon^n_i$ such that the expression in equation 18 is given by:\n",
        "\n",
        "$$g^2=\\left|\\frac{\\epsilon^n_i-\\frac{c \\Delta t}{2\\Delta x}\\left(\\epsilon^n_{i+1}-\\epsilon^n_{i-1}\\right)}{\\epsilon^n_i}\\right| \\le 1. \\tag{20}$$\n",
        "\n",
        "The main argument is that one can represent the spatial component of the error term by a Fourier Series\n",
        "\n",
        "$$\\epsilon(x) = \\sum_{m=-\\infty}^\\infty C_m e^{ik_m x} \\tag{21}$$\n",
        "\n",
        "where $k_m$ is a wavenumber and $C_m$ is the Fourier coefficient. Let's now examine any particular term and ask how the coefficient $C_m$ changes between time step $n$ (i.e., $C_m \\equiv A_n$) and time step $n+1$ (i.e., $C_m \\equiv A_{n+1}$). Thus, we can assume that\n",
        "\n",
        "$$\\begin{eqnarray}\n",
        "\\epsilon^n_i     &=& A_n e^{ik_m x}\\tag{22a} \\\\\n",
        "\\epsilon^n_{i+1} &=& A_n e^{ik_m (x+\\Delta x)} \\tag{22b}\\\\\n",
        "\\epsilon^n_{i-1} &=& A_n e^{ik_m (x-\\Delta x)} \\tag{22c}\\\\\n",
        "\\end{eqnarray}$$\n",
        "\n",
        "Inserting these back into equation 20 yields\n",
        "\n",
        "$$g^2=\\left|\\frac{A_n e^{ik_m x}-\\frac{c \\Delta t}{2\\Delta x}\\left(A_n e^{ik_m (x+\\Delta x)}-A_n e^{ik_m (x-\\Delta x)}\\right)}{A_n e^{ik_m x}} \\right|^2\\le 1. \\tag{23}$$\n",
        "\n",
        "which simplifies to\n",
        "\n",
        "$$g^2=\\left|1-\\frac{c \\Delta t}{2\\Delta x}\\left( e^{ik_m \\Delta x}- e^{-ik_m \\Delta x}\\right) \\right|^2\\le 1. \\tag{24}$$\n",
        "\n",
        "Using Euler expression $\\sin \\theta = \\frac{e^{i\\theta}-e^{-i\\theta}}{2i}$ allow us to write\n",
        "\n",
        "$$ g^2 = \\left|1- \\frac{ic \\Delta t}{\\Delta x}\n",
        "\\sin (k_m \\Delta x)  \\right|^2 \\le 1. \\tag{25}$$\n",
        "\n",
        "Let's now compute $g^2 = \\overline{g}g$ (where the the overline indicates complex conjugate), and thus for stability we need to be able to satisfy the following inequality:\n",
        "\n",
        "$$|g|^2 = \\overline{g}g = \\overline{\\left(1-\\frac{ic \\Delta t}{\\Delta x}\n",
        "\\sin (k_m \\Delta x) \\right)} \\left(1-\\frac{ic \\Delta t}{\\Delta x}\n",
        "\\sin (k_m \\Delta x) \\right) = 1+\\frac{c^2 \\Delta t^2}{\\Delta x^2}\\sin^2(k_m\\Delta x) \\le 1. \\tag{26}$$\n",
        "\n",
        "which contains all positive quantitites.  Thus, we see that unless our time step $\\Delta t=0$ or spatial sampling is $\\Delta x\\rightarrow \\infty$, there is no way to satisfy $|g|^2\\le 1$ and thus this solution approach is **unconditionally unstable**."
      ]
    },
    {
      "cell_type": "markdown",
      "metadata": {
        "id": "LfiYl2UIuS5L"
      },
      "source": [
        "## Solution by Downwind Method\n",
        "\n",
        "Let's now modestly adapt our numerical solution approach by changing up our spatial discritization.  Assuming that $c>0$, instead of looking both to the left and the right in a centered spatial scheme, let's look at a finite-difference scheme given by:\n",
        "\n",
        "$$\\left(\\frac{U^{n+1}_i - U^{n}_i}{\\Delta t} \\right)+c\\left(\\frac{U^{n}_{i} - U^{n}_{i-1}}{\\Delta x} \\right)=0, \\tag{27}$$\n",
        "\n",
        "where we now compute a first-order accurate spatial derivative.  Multiplying through by $\\Delta t$ and rearranging the terms to isolate the $n+1$ term gives us:\n",
        "\n",
        "$$U^{n+1}_i  =  U^{n}_i - C\\left(U^{n}_{i} - U^{n}_{i-1}\\right), \\tag{28}$$\n",
        "\n",
        "where $C=\\frac{c\\Delta t}{\\Delta x}$ is commonly known as the **Courant number** and is the ratio of the physical velocity $c$ to the \"spreading velocity\" $\\Delta x/\\Delta t$.  Let's now look at how our numerical solution changes.  I'm using the same parameters as before; however, I've just slightly changed the numerical scheme."
      ]
    },
    {
      "cell_type": "code",
      "execution_count": null,
      "metadata": {
        "id": "jy05sVluuS5L"
      },
      "outputs": [],
      "source": [
        "def Advection_downwind_Solution(U,vx,dx,dt,LB,RB):\n",
        "    '''Set up downwind advection soluton\n",
        "    usage: U = Advection_downwind_Solution(U,vx,dx,dt,LB,RB):\n",
        "    input:\n",
        "        U : Solution at time step n (nx)\n",
        "        vx: advection velocity\n",
        "        dx: spatial sampling\n",
        "        dt: temporal sampling\n",
        "        LB: Left  boundary condition (Dirchelet)\n",
        "        RB: Right boundary condition (Dirchelet)\n",
        "    output:\n",
        "        U: heat solution at time step n+1(nx)\n",
        "    depends on:\n",
        "        nothing\n",
        "\n",
        "    written by Jeff Shragge, jshragge@mines.edu, 10/2019\n",
        "    '''\n",
        "    nx = len(U)\n",
        "    gamma =  vx*dt/dx\n",
        "\n",
        "    U[1:nx-1] = U[1:nx-1]-gamma*(U[1:nx-1]-U[0:nx-2])  # . . Writes over itself\n",
        "    U[0     ] = LB  # . . Enforce left  boundary condition\n",
        "    U[nx-1  ] = RB  # . . Enforce right boundary condition\n",
        "    return U"
      ]
    },
    {
      "cell_type": "code",
      "execution_count": null,
      "metadata": {
        "id": "n1livjHAuS5M",
        "outputId": "0873fe9a-1bd3-4735-b325-ac5a07c96d6d"
      },
      "outputs": [
        {
          "name": "stdout",
          "output_type": "stream",
          "text": [
            "Courant #:  1.5\n",
            "libc++abi.dylib: terminating with uncaught exception of type std::runtime_error: Couldn't close file\r\n"
          ]
        },
        {
          "data": {
            "text/html": [
              "\n",
              "<video width=\"500\" controls style=\"display:block; margin:0 auto;\">\n",
              "  <source src=\"./movies/Ex3_3.mp4\" type=\"video/mp4\">\n",
              "</video>\n"
            ],
            "text/plain": [
              "<IPython.core.display.HTML object>"
            ]
          },
          "execution_count": 36,
          "metadata": {},
          "output_type": "execute_result"
        }
      ],
      "source": [
        "## . . Time axis parameterrs\n",
        "nt,dt=151,0.01\n",
        "\n",
        "## . . Space axis parameters\n",
        "xmin,xmax=0,1\n",
        "nx=101\n",
        "xx = np.linspace(xmin,xmax,nx)\n",
        "dx = xx[1]-xx[0]\n",
        "\n",
        "## . . Initial Condition\n",
        "sigma=0.1\n",
        "midpoint = (xmax-xmin)/2\n",
        "U = np.zeros(np.size(xx))\n",
        "U = np.exp(-(xx-midpoint)**2/sigma**2)\n",
        "\n",
        "## . . FD parameters\n",
        "#vx = 0.5 # velocity (Dispersion)\n",
        "#vx = 1.0 # velocity (Non disperrsive)\n",
        "#vx = 1.1 # velocity (Increasing and then unstable)\n",
        "vx = 1.5 # velocity (Quickly  unstable)\n",
        "#vx = 2.0 # velocity (Quickly  unstable)\n",
        "LB = RB = 0 # Boundary conditions on left and right\n",
        "print('Courant #: ',vx*dt/dx)\n",
        "\n",
        "c = np.zeros((nx,nt))\n",
        "for i in range(nt):\n",
        "    U = Advection_downwind_Solution(U,vx,dx,dt,LB,RB)\n",
        "    c[:,i]=U\n",
        "\n",
        "k = 0\n",
        "kskip = 3\n",
        "\n",
        "## . . Set up movie\n",
        "fig3,ax1 = plt.subplots(1)\n",
        "fig3.subplots_adjust(0.1,0.1,0.9,0.9)\n",
        "fig3.set_dpi(100)\n",
        "\n",
        "## . . Call the animator.\n",
        "!rm -f movies/Ex3_3.mp4\n",
        "anim3 = animation.FuncAnimation(fig3,advection_animate,frames=int((nt-kskip)/kskip),interval=100)\n",
        "anim3.save('./movies/Ex3_3.mp4')\n",
        "plt.close()\n",
        "\n",
        "HTML(\"\"\"\n",
        "<video width=\"500\" controls style=\"display:block; margin:0 auto;\">\n",
        "  <source src=\"./movies/Ex3_3.mp4\" type=\"video/mp4\">\n",
        "</video>\n",
        "\"\"\")"
      ]
    },
    {
      "cell_type": "markdown",
      "metadata": {
        "id": "5HyI8HtguS5M"
      },
      "source": [
        "**Figure 8. Downwind solution of the advection equation for a right-going wave. The approach is stable for $0<C<1$.  While this approach is now stable as the wave disturbance progresses toward the boundary, it loses amplitude and spreads out indicating that the solution is dispersive.**\n",
        "\n",
        "This is an interesting result because the solution is now **stable**; however, the amplitude of the solution is changing and appears to be broadening.  This is because this solution is experiencing **numerical dispersion**, which means that the different wavenumber (or frequency) components are traveling with a different effective velocity [i.e., $c=c(\\lambda)$].  This is a ubiquitous issue in numerical solutions of PDEs, which we will discuss below.\n",
        "\n",
        "Another question worth discussing is whether or not we have actually solved the stability problem.  To answer this, let's look at what happens if we use this same numerical scheme but with a **negative velocity**."
      ]
    },
    {
      "cell_type": "code",
      "execution_count": null,
      "metadata": {
        "id": "TcWmYbm6uS5M",
        "outputId": "c49783da-bac3-4ba8-de20-a5352f514860"
      },
      "outputs": [
        {
          "name": "stdout",
          "output_type": "stream",
          "text": [
            "Courant #:  -0.5\n"
          ]
        },
        {
          "data": {
            "text/html": [
              "\n",
              "<video width=\"500\" controls style=\"display:block; margin:0 auto;\">\n",
              "  <source src=\"./movies/Ex3_4.mp4\" type=\"video/mp4\">\n",
              "</video>\n"
            ],
            "text/plain": [
              "<IPython.core.display.HTML object>"
            ]
          },
          "execution_count": 22,
          "metadata": {},
          "output_type": "execute_result"
        }
      ],
      "source": [
        "## . . Time axis parameters\n",
        "nt,dt=151,0.01\n",
        "\n",
        "## . . Space axis parameters\n",
        "xmin,xmax=0,1\n",
        "nx=101\n",
        "xx = np.linspace(xmin,xmax,nx)\n",
        "dx = xx[1]-xx[0]\n",
        "\n",
        "## . . Initial Condition\n",
        "sigma=0.1\n",
        "midpoint = (xmax-xmin)/2\n",
        "U = np.zeros(np.size(xx))\n",
        "U = np.exp(-(xx-midpoint)**2/sigma**2)\n",
        "\n",
        "## . . FD paramters\n",
        "vx = -0.5 # velocity\n",
        "LB = RB = 0 # Boundary conditions on left and right\n",
        "print('Courant #: ',vx*dt/dx)\n",
        "\n",
        "c = np.zeros((nx,nt))\n",
        "for i in range(nt):\n",
        "    U = Advection_downwind_Solution(U,vx,dx,dt,LB,RB)\n",
        "    c[:,i]=U\n",
        "\n",
        "k = 0\n",
        "kskip = 3\n",
        "\n",
        "## . . Set up movie\n",
        "fig4,ax1 = plt.subplots(1)\n",
        "fig4.subplots_adjust(0.1,0.1,0.9,0.9)\n",
        "fig4.set_dpi(100)\n",
        "\n",
        "## . . Call the animator.\n",
        "anim4 = animation.FuncAnimation(fig4,advection_animate,frames=int((nt-kskip)/kskip),interval=100)\n",
        "anim4.save('./movies/Ex3_4.mp4')\n",
        "plt.close()\n",
        "\n",
        "HTML(\"\"\"\n",
        "<video width=\"500\" controls style=\"display:block; margin:0 auto;\">\n",
        "  <source src=\"./movies/Ex3_4.mp4\" type=\"video/mp4\">\n",
        "</video>\n",
        "\"\"\")"
      ]
    },
    {
      "cell_type": "markdown",
      "metadata": {
        "id": "ueccjp8muS5M"
      },
      "source": [
        "**Figure 9. Downwind solution of the advection equation for a left-going wave. Note that this is an unstable solution - even though the right-going propagation was stable.**\n",
        "\n",
        "Obviously, not the solution we want. Let's take a look at the von Neumann stability analysis:\n",
        "\n",
        "$$g^2 = \\left| \\frac{\\epsilon^{n+1}_i}{\\epsilon^{n}_i} \\right|^2 = \\left| \\frac{ \\epsilon^n_i-C\\left(\\epsilon^n_{i}-\\epsilon^n_{i-1}\\right)}{\\epsilon^n_{i}} \\right|^2 \\le 1 \\tag{22}$$\n",
        "\n",
        "where we again use the following terms:\n",
        "\n",
        "$$\\begin{eqnarray}\n",
        "\\epsilon^n_i &=& A_n e^{ik_m x}\\tag{23a} \\\\\n",
        "\\epsilon^n_{i-1} &=& A_n e^{ik_m (x-\\Delta x)} \\tag{23c}\\\\\n",
        "\\end{eqnarray}$$\n",
        "\n",
        "Inserting these back into equation 22 yields the amplification factor:\n",
        "\n",
        "$$g^2  = \\left|\n",
        "\\frac{\n",
        "A_n e^{ik_m x} -\n",
        "C\n",
        "\\left(A_n e^{ik_m x}-A_n e^{ik_m (x-\\Delta x)}\\right)}{A_n e^{ik_m x}}\n",
        "\\right|^2 \\le 1,\n",
        "\\tag{24a}$$\n",
        "\n",
        "which simplifies to\n",
        "\n",
        "$$g^2  = \\left|\n",
        "1 - C+ Ce^{-ik_m \\Delta x}\n",
        "\\right|^2 \\le 1.\n",
        "\\tag{24b}$$\n",
        "\n",
        "Thus, the only way that this can be always true is if $0< C\\le 1$ or:\n",
        "\n",
        "$$0<\\frac{c\\Delta t}{\\Delta x} \\le 1. \\tag{25} $$\n",
        "\n",
        "This implies that:\n",
        "\n",
        "$$c \\le \\frac{\\Delta x}{\\Delta t}. \\tag{26}$$\n",
        "\n",
        "and that $c$ is a positive quantity (since $\\Delta t$ and $\\Delta x$ are positive).  Thus, the **downwind method** is **conditionally stable**, i.e., is stable if and only if the **physical** velocity $c$ is not greater than the **spreading velocity** $\\Delta x/ \\Delta t$ of the numerical method. This is equivalent to the condition that the time step, $\\Delta t$, must be smaller than the time taken for the wave to travel the distance of the spatial step, $\\Delta x$. This condition is called a **Courant-Friedrichs-Lewy (CFL) stability criterion**, and is named after R. Courant, K. Friedrichs, and H. Lewy, who described it in their foundational paper in 1928."
      ]
    },
    {
      "cell_type": "markdown",
      "metadata": {
        "id": "VdRnhsu6uS5M"
      },
      "source": [
        "### Solution by Upwind Method\n",
        "\n",
        "Let's now look at changing up the solution so that instead of looking **downwind**, we are now looking **upwind**.  That is, we are considering spatial points ahead our current location.\n",
        "\n",
        "$$\\left(\\frac{U^{n+1}_i - U^{n}_i}{\\Delta t} \\right)+c\\left(\\frac{U^{n}_{i+1} - U^{n}_{i}}{\\Delta x} \\right)= 0, \\tag{27}$$\n",
        "\n",
        "where we again compute a first-order accurate spatial derivative.  Multiplying through by $\\Delta t$ and rearranging the terms to isolate the $n+1$ term gives us:\n",
        "\n",
        "$$U^{n+1}_i  =  U^{n}_i - C\\left(U^{n}_{i+1} - U^{n}_{i}\\right), \\tag{28}$$\n",
        "\n",
        "wherer again $C=\\frac{c\\Delta t}{\\Delta x}$ is the Courant number. Let's now look at how our numerical solution changes.  I'm using the same parameters as before; however, I've just slightly changed the numerical scheme."
      ]
    },
    {
      "cell_type": "code",
      "execution_count": null,
      "metadata": {
        "id": "9COd6K7luS5M"
      },
      "outputs": [],
      "source": [
        "def Advection_upwind_solution(U,vx,dx,dt,LB,RB):\n",
        "    '''Set up upwind advection soluton\n",
        "    usage: U = Advection_upwind_Solution(U,vx,dx,dt,LB,RB):\n",
        "    input:\n",
        "        U : Solution at time step n (nx)\n",
        "        vx: advection velocity\n",
        "        dx: spatial sampling\n",
        "        dt: temporal sampling\n",
        "        LB: Left  boundary condition (Dirchelet)\n",
        "        RB: Right boundary condition (Dirchelet)\n",
        "    output:\n",
        "        U: heat solution at time step n+1(nx)\n",
        "    depends on:\n",
        "        nothing\n",
        "\n",
        "    written by Jeff Shragge, jshragge@mines.edu, 10/2019\n",
        "    '''\n",
        "    nx = len(U)\n",
        "    gamma =  vx*dt/dx\n",
        "\n",
        "    U[1:nx-1] = U[1:nx-1]-gamma*(U[2:nx]-U[1:nx-1]) # . . Writes over itself\n",
        "    U[0     ] = LB  # . . Enforce left  boundary condition\n",
        "    U[nx-1  ] = RB  # . . Enforce right boundary condition\n",
        "    return U"
      ]
    },
    {
      "cell_type": "code",
      "execution_count": null,
      "metadata": {
        "id": "w0oNsLwhuS5M",
        "outputId": "654de1bc-eb32-454e-a854-8a501f074c93"
      },
      "outputs": [
        {
          "name": "stdout",
          "output_type": "stream",
          "text": [
            "Courant #:  -1.5\n"
          ]
        },
        {
          "data": {
            "text/html": [
              "\n",
              "<video width=\"500\" controls style=\"display:block; margin:0 auto;\">\n",
              "  <source src=\"./movies/Ex3_5.mp4\" type=\"video/mp4\">\n",
              "</video>\n"
            ],
            "text/plain": [
              "<IPython.core.display.HTML object>"
            ]
          },
          "execution_count": 37,
          "metadata": {},
          "output_type": "execute_result"
        }
      ],
      "source": [
        "## . . Time axis parametes\n",
        "nt,dt=151,0.01\n",
        "\n",
        "## . . Space axis parameters\n",
        "xmin,xmax=0,1\n",
        "nx=101\n",
        "xx = np.linspace(xmin,xmax,nx)\n",
        "dx = xx[1]-xx[0]\n",
        "\n",
        "## . . Initial Condition\n",
        "sigma=0.1\n",
        "midpoint = (xmax-xmin)/2\n",
        "U = np.zeros(np.size(xx))\n",
        "U = np.exp(-(xx-midpoint)**2/sigma**2)\n",
        "\n",
        "## . . FD paramters\n",
        "#vx = -0.5 # velocity\n",
        "#vx = -1.0 # velocity\n",
        "#vx = -1.1 # velocity\n",
        "vx = -1.5 # velocity\n",
        "LB = RB = 0 # Boundary conditions on left and right\n",
        "print('Courant #: ',vx*dt/dx)\n",
        "\n",
        "c = np.zeros((nx,nt))\n",
        "for i in range(nt):\n",
        "    U = Advection_upwind_solution(U,vx,dx,dt,LB,RB)\n",
        "    c[:,i]=U\n",
        "\n",
        "k = 0\n",
        "kskip = 3\n",
        "\n",
        "## . . Set up movie\n",
        "fig5,ax1 = plt.subplots(1)\n",
        "fig5.subplots_adjust(0.1,0.1,0.9,0.9)\n",
        "fig5.set_dpi(100)\n",
        "\n",
        "## . . Call the animator.\n",
        "anim5 = animation.FuncAnimation(fig5,advection_animate,frames=int((nt-kskip)/kskip),interval=100)\n",
        "#!rm -f ./movies/Ex3_5.mp4\n",
        "anim5.save('./movies/Ex3_5.mp4')\n",
        "plt.close()\n",
        "\n",
        "HTML(\"\"\"\n",
        "<video width=\"500\" controls style=\"display:block; margin:0 auto;\">\n",
        "  <source src=\"./movies/Ex3_5.mp4\" type=\"video/mp4\">\n",
        "</video>\n",
        "\"\"\")"
      ]
    },
    {
      "cell_type": "markdown",
      "metadata": {
        "id": "7HmCC-TDuS5N"
      },
      "source": [
        "**Figure 10. Upwind solution of the advection equation for a left-going wave. Note that this is a stable solution for $-1<C<0$.**\n",
        "\n",
        "### A Linear Algebra Framework\n",
        "\n",
        "The shifting stencils in figure above actually are a **system of linear equations** that can be represented in a straightforward manner using matrix algebra in the form of ${\\bf Ax}={\\bf b}$ where ${\\bf x}$ is the vector of $I$ unknown values $U^{n+1}_i$ on the left-hand side of equation 17d, ${\\bf b}$ is a vector of $I$ known values on the right-hand side of equation 17d, and ${\\bf A}$ is a matrix that represents the mapping between ${\\bf x}$ and ${\\bf b}$.  Let's write this out explicitly:\n",
        "\n",
        "$${\\bf Ax} = {\\bf b} \\tag{29}$$\n",
        "\n",
        "which corresponds to\n",
        "\n",
        "$$\n",
        "\\left[\n",
        "\\begin{array}{ccccccc}\n",
        "1 & 0 & 0 & ... & 0 &0 &0 \\\\\n",
        "0 & 1 & 0 & ... & 0 &0 &0 \\\\\n",
        "0 & 0 & 1 & ... & 0 &0 &0 \\\\\n",
        "\\vdots & \\vdots & \\vdots & \\ddots & \\vdots &\\vdots &\\vdots \\\\\n",
        "0 &0&0&...&1&0&0\\\\\n",
        "0 &0&0&...&0&1&0\\\\\n",
        "0 &0&0&...&0&0&1\\\\\n",
        "\\end{array}\n",
        "\\right]\n",
        "\\left[\n",
        "\\begin{array}{c}\n",
        "U^{n+1}_0 \\\\\n",
        "U^{n+1}_1 \\\\\n",
        "U^{n+1}_2 \\\\\n",
        "\\vdots\\\\\n",
        "U^{n+1}_{I-2} \\\\\n",
        "U^{n+1}_{I-1} \\\\\n",
        "U^{n+1}_{I} \\\\\n",
        "\\end{array}\n",
        "\\right]\n",
        "=\n",
        "\\left[\n",
        "\\begin{array}{c}\n",
        "U^{n}_{0}-\\gamma \\left(U^{n}_{1} - U^{n}_{0}\\right)  \\\\\n",
        "U^{n}_{1}-\\gamma \\left(U^{n}_{2} - U^{n}_{1}\\right) \\\\\n",
        "U^{n}_{2}-\\gamma \\left(U^{n}_{3} - U^{n}_{2}\\right) \\\\\n",
        "\\vdots\\\\\n",
        "U^{n}_{I-2}-\\gamma \\left(U^{n}_{I-1} - U^{n}_{I-2}\\right)  \\\\\n",
        "U^{n}_{I-1}-\\gamma \\left(U^{n}_{I  } - U^{n}_{I-1}\\right)  \\\\\n",
        "U^{n}_{I  }-\\gamma \\left(U^{n}_{I+1} - U^{n}_{I  }\\right)  \\\\\n",
        "\\end{array}\n",
        "\\right]. \\tag{30}\n",
        "$$\n",
        "\n",
        "Note: clearly, this is kind of a boring equation because ${\\bf A=I}$ is really an identity matrix that is not explictly needed in this context; however, I'm including it for parallelism with the sections below. Also, you might notice that the right-hand side of the last equation requires the point at $U^n_{I+1}$, which isn't defined!  Generally, one has to make assumptions about the behavior of these out-of-grid points!"
      ]
    },
    {
      "cell_type": "markdown",
      "metadata": {
        "id": "NCYtSDR3uS5Q"
      },
      "source": [
        "## Lax-Wendroff Method\n",
        "\n",
        "The Lax-Wendroff method is a more accurate approach for solving the advection equation using a **multi-step** approach.  In these type of approaches, one first calculates two quantities at the **half step** $U_i^{n+\\frac{1}{2}}$ and then combines these quantities to generate the solution at the full step $U_i^{n+1}$. This approach is illustrated in the figure below where one uses three points at time level $n=2$ to calculate two solutions at time level $n=2+\\frac{1}{2}$ (dotted lines) and then combines these approaches to calculate the solution at one point at time step $n=3$."
      ]
    },
    {
      "cell_type": "code",
      "execution_count": null,
      "metadata": {
        "id": "xv3ZgdNmuS5Q",
        "outputId": "4f0715f4-2da3-488e-c935-8bf56b8b36ae"
      },
      "outputs": [
        {
          "data": {
            "image/png": "[encoded data removed]",
            "text/plain": [
              "<Figure size 432x432 with 1 Axes>"
            ]
          },
          "metadata": {
            "needs_background": "light"
          },
          "output_type": "display_data"
        }
      ],
      "source": [
        "nx=ny=5\n",
        "x = np.arange(nx)\n",
        "y=np.zeros(ny)\n",
        "\n",
        "plt.figure(figsize=(6,6))\n",
        "ax1.clear()\n",
        "\n",
        "for iy in range(nx):\n",
        "    plt.plot(x,y,'ko')\n",
        "    y+=1\n",
        "\n",
        "# . . Solution at point i-1\n",
        "plt.plot(1,2,    'ro',ms=20)\n",
        "plt.plot(1.5,2.5,'ro',ms=20)\n",
        "plt.plot(2,2,    'ro',ms=20)\n",
        "plt.plot([2,1.5],[3,2.5],'r-',linewidth=5)\n",
        "plt.plot([2.5,2],[2.5,3],'r-',linewidth=5)\n",
        "\n",
        "# . . Solution at point i\n",
        "plt.plot(1.5,2.5,'ro',ms=20)\n",
        "plt.plot(2.5,2.5,'ro',ms=20)\n",
        "plt.plot(2,3,    'ro',ms=20)\n",
        "plt.plot(3,2,    'ro',ms=20)\n",
        "plt.plot([2,1.5],[2,2.5],'r--',linewidth=3)\n",
        "plt.plot([1,1.5],[2,2.5],'r--',linewidth=3)\n",
        "plt.plot([2,2.5],[2,2.5],'r--',linewidth=3)\n",
        "plt.plot([3,2.5],[2,2.5],'r--',linewidth=3)\n",
        "\n",
        "plt.ylabel('Time Step',fontsize=16)\n",
        "plt.xlabel('Space Step',fontsize=16)\n",
        "plt.title('Lax-Wendroff Stencil',fontsize=20)\n",
        "plt.show()"
      ]
    },
    {
      "cell_type": "markdown",
      "metadata": {
        "collapsed": true,
        "id": "TPLgrwjbuS5R"
      },
      "source": [
        "**Figure 11. Illustration of the Lax-Wendroff two-step solution grid. Here, one first approximates solutions at the half step (here $n=2.5$) that are then used to calculate the solution at the full step (here $n=3$).**\n",
        "\n",
        "For the 1D advection equation, this means solving the following two-step scheme:\n",
        "\n",
        "$$u^{n+1/2}_{i-1/2} = \\frac{1}{2} \\left( u^n_i +u^n_{i-1}\n",
        "\\right) -  \\frac{c\\Delta t}{2\\Delta x} \\left( u^n_i-u^n_{i-1}\\right) \\tag{32a}$$\n",
        "\n",
        "$$u^{n+1/2}_{i+1/2} = \\frac{1}{2} \\left( u^n_{i+1} +u^n_i\n",
        "\\right) -  \\frac{c\\Delta t}{2\\Delta x} \\left( u^n_{i+1}-u^n_i\\right) \\tag{32b}$$\n",
        "\n",
        "$$u^{n+1}_{i} = u^n_i -  \\frac{c\\Delta t}{\\Delta x} \\left(u^{n+1/2}_{i+1/2}-u^{n+1/2}_{i-1/2}\\right) \\tag{32c}$$\n",
        "\n",
        "However, by backsubstituting equations 32a and 32b into equation 32c, this scheme can be rewritten as\n",
        "\n",
        "$$u^{n+1}_{i} = b_{-1}u^{n}_{i-1}+b_{0}u^{n}_{i}+b_{+1}u^{n}_{i+1} \\tag{33a}$$\n",
        "\n",
        "where\n",
        "\n",
        "$$b_{-1} = \\frac{C}{2}\\left(C+1\\right),\\tag{33b}$$\n",
        "$$b_{ 0} = 1-C^2,  \\tag{33c}$$\n",
        "$$b_{+1} = \\frac{C}{2}\\left(C-1\\right),\\tag{33d}$$\n",
        "\n",
        "and $C=\\frac{c\\Delta t}{\\Delta x}$ is again the **Courant number**."
      ]
    },
    {
      "cell_type": "code",
      "execution_count": null,
      "metadata": {
        "id": "FtiMmDIsuS5R"
      },
      "outputs": [],
      "source": [
        "## . . Advection equation solution\n",
        "def Advection_Lax_Wendroff_Solution(U,vx,dx,dt,LB,RB):\n",
        "    '''Set up Lax-Wendroff advection solution\n",
        "    usage: U = Advection_Lax_Wendroff_Solution(U,vx,dx,dt,LB,RB):\n",
        "    input:\n",
        "        U : Solution at time step n (nx)\n",
        "        vx: advection velocity\n",
        "        dx: spatial sampling\n",
        "        dt: temporal sampling\n",
        "        LB: Left  boundary condition (Dirchelet)\n",
        "        RB: Right boundary condition (Dirchelet)\n",
        "    output:\n",
        "        U: heat solution at time step n+1(nx)\n",
        "    depends on:\n",
        "        nothing\n",
        "\n",
        "    written by Jeff Shragge, jshragge@mines.edu, 10/2019\n",
        "    '''\n",
        "    nx = len(U)\n",
        "\n",
        "    CC = vx*dt/dx\n",
        "\n",
        "    ## . . Coefficients\n",
        "    bm = CC/2*(CC+1)\n",
        "    b0 = 1-CC**2\n",
        "    bp = CC/2*(CC-1)\n",
        "\n",
        "    ## . . Calculate soultion\n",
        "    U[1:nx-1] = bm*U[0:nx-2]+b0*U[1:nx-1]+bp*U[2:nx]\n",
        "    U[0     ] = LB # . . Enforce left  boundary condition\n",
        "    U[nx-1  ] = RB # . . Enforce right boundary condition\n",
        "\n",
        "    return U"
      ]
    },
    {
      "cell_type": "code",
      "execution_count": null,
      "metadata": {
        "id": "4AAg4PptuS5R",
        "outputId": "9285d00f-e91c-46d0-c086-54966a2b74ac"
      },
      "outputs": [
        {
          "data": {
            "text/html": [
              "\n",
              "<video width=\"500\" controls style=\"display:block; margin:0 auto;\">\n",
              "  <source src=\"./movies/Ex3_6.mp4\" type=\"video/mp4\">\n",
              "</video>\n"
            ],
            "text/plain": [
              "<IPython.core.display.HTML object>"
            ]
          },
          "execution_count": 38,
          "metadata": {},
          "output_type": "execute_result"
        }
      ],
      "source": [
        "## . . Time axis parametes\n",
        "nt,dt=201,0.01\n",
        "\n",
        "## . . Space axis parameters\n",
        "xmin,xmax=0,1\n",
        "nx=101\n",
        "xx = np.linspace(xmin,xmax,nx)\n",
        "dx = xx[1]-xx[0]\n",
        "\n",
        "## . . Initial Condition\n",
        "sigma=0.1\n",
        "midpoint = (xmax-xmin)/2\n",
        "Un = np.zeros(np.size(xx))\n",
        "Up = np.zeros(np.size(xx))\n",
        "Un = np.exp(-(xx-midpoint)**2/sigma**2)\n",
        "Up = np.exp(-(xx-midpoint)**2/sigma**2)\n",
        "\n",
        "## . . FD paramters\n",
        "#vx= 1.0 # velocity\n",
        "vx= 0.85 # velocity\n",
        "#vx= 1.1 # velocity\n",
        "#vx= 1.2 # velocity\n",
        "LB = RB = 0 # Boundary conditions on left and right\n",
        "\n",
        "c = np.zeros((nx,nt))\n",
        "d = np.zeros((nx,nt))\n",
        "\n",
        "for i in range(nt):\n",
        "    Un = Advection_Lax_Wendroff_Solution(Un,+vx,dx,dt,LB,RB)\n",
        "    c[:,i]=Un\n",
        "    Up = Advection_Lax_Wendroff_Solution(Up,-vx,dx,dt,LB,RB)\n",
        "    d[:,i]=Up\n",
        "\n",
        "k = 0\n",
        "kskip = 3\n",
        "\n",
        "def advection_both_animate(i):\n",
        "    global k\n",
        "    k += 1\n",
        "    ax1.clear()\n",
        "    ax1.plot(xx,c[:,k],'c',xx,d[:,k],'m')\n",
        "    ax1.grid(True)\n",
        "    ax1.set_xlim([xmin,xmax])\n",
        "    ax1.set_ylim([-1.5,1.5])\n",
        "\n",
        "## . . Set up movie\n",
        "fig6,ax1 = plt.subplots(1)\n",
        "fig6.subplots_adjust(0.1,0.1,0.9,0.9)\n",
        "fig6.set_dpi(100)\n",
        "\n",
        "## . . Call the animator.\n",
        "#!rm -f movies/Ex3_6.mp4\n",
        "anim6 = animation.FuncAnimation(fig6,advection_both_animate,frames=int((nt-kskip)/kskip),interval=50)\n",
        "anim6.save('./movies/Ex3_6.mp4')\n",
        "plt.close()\n",
        "\n",
        "HTML(\"\"\"\n",
        "<video width=\"500\" controls style=\"display:block; margin:0 auto;\">\n",
        "  <source src=\"./movies/Ex3_6.mp4\" type=\"video/mp4\">\n",
        "</video>\n",
        "\"\"\")"
      ]
    },
    {
      "cell_type": "markdown",
      "metadata": {
        "id": "WrQumK4WuS5R"
      },
      "source": [
        "**Figure 12. Illustration of the Lax-Wendroff two-step solution. I have plotted both the left- (magenta) and right-going (cyan) solutions that are both stable and largely dispersion-free.**\n",
        "\n",
        "Where we now see that we have stable and (largely) dispersion free.  In fact, one can complete a standard von Neumann stability analysis (using $\\phi = k_m\\Delta x$) to show that\n",
        "\n",
        "$$g^2 = \\left|1+C^2(\\cos \\phi)-1)+iC\\sin \\phi\\right|^2 \\le 1. \\tag{34a}$$\n",
        "\n",
        "which simplifies (thanks to Mathematica!) to\n",
        "\n",
        "$$g^2 = C^2 \\sin ^2(\\phi )+\\left(C^2 \\cos (\\phi)-C^2+1\\right)^2 \\le 1. \\tag{34b}$$\n",
        "\n",
        "A bit of graphical analysis can show that $g^2\\le 1$ whenever $|C|\\le 1$. Thus, the Lax-Wendroff approach is **conditionally stable**."
      ]
    },
    {
      "cell_type": "code",
      "execution_count": null,
      "metadata": {
        "id": "6f5I8xj_uS5R",
        "outputId": "4814bf7e-5607-444e-9988-12d4408fc9ec"
      },
      "outputs": [
        {
          "data": {
            "image/png": "[encoded data removed]",
            "text/plain": [
              "<Figure size 1080x360 with 2 Axes>"
            ]
          },
          "metadata": {
            "needs_background": "light"
          },
          "output_type": "display_data"
        }
      ],
      "source": [
        "xmin,xmax,nx=0.,180.,91\n",
        "dx= (xmax-xmin)/(nx-1)\n",
        "\n",
        "cmin,cmax,nc=0.0,1.1,101\n",
        "\n",
        "\n",
        "phi = np.linspace(xmin,xmax,nx)/180.0*np.pi\n",
        "vx  = np.linspace(cmin,cmax,nc)\n",
        "\n",
        "ggg = np.zeros((nc,nx))\n",
        "\n",
        "for ic in range(nc):\n",
        "    for ix in range(nx):\n",
        "        ggg[ic,ix] = vx[ic]**2*np.sin(phi[ix])**2 + (1-vx[ic]**2+vx[ic]**2*np.cos(phi[ix]))**2\n",
        "\n",
        "plt.figure(figsize=(15,5))\n",
        "plt.xlabel('$\\Phi$',fontsize=12)\n",
        "plt.ylabel('C (dimensionless)',fontsize=12)\n",
        "plt.title('Amplification Matrix $g^2$',fontsize=16)\n",
        "plt.imshow(ggg,cmap='jet',extent=[0,np.pi,cmax,cmin],origin='upper')\n",
        "plt.colorbar()\n",
        "plt.show()"
      ]
    },
    {
      "cell_type": "markdown",
      "metadata": {
        "id": "fu6oIJhMuS5R"
      },
      "source": [
        "**Figure 13. Illustration of the zone where $g^2 \\le 1$, which only occurs when $|C|\\le 1$.**\n",
        "\n",
        "Note also that this scheme has an accuracy order of $O(\\Delta x^2,\\Delta ^2)$.  A further interesting observation is that this equation is equivalent to the following advection+diffusion equation:\n",
        "\n",
        "$$\\frac{\\partial u}{\\partial t} + c \\frac{\\partial u}{\\partial x} = D \\frac{\\partial^2 u}{\\partial x^2}, \\tag{35a}$$\n",
        "\n",
        "where $D$ is an effective diffusion term given by:\n",
        "\n",
        "$$D = \\frac{\\Delta x^2}{2\\Delta t}- c^2\\frac{\\Delta t}{2}. \\tag{35b}$$"
      ]
    },
    {
      "cell_type": "markdown",
      "metadata": {
        "id": "2w5cWIt6uS5S"
      },
      "source": [
        "### A Linear Algebra Framework\n",
        "\n",
        "The shifting stencils in figure again are a **system of linear equations** that can be represented in a straightforward manner using matrix algebra in the form of ${\\bf Ax}={\\bf Rb}$ where ${\\bf m}$ is the vector of $I$ unknown values $U^{n+1}_i$ on the left-hand side of equation 17d, ${\\bf b}$ is a vector of $I$ known values on the right-hand side of equation 17d, and ${\\bf A}$ and ${\\bf R}$ are two matrix operators that define the mapping between ${\\bf m}$ and ${\\bf d}$.  Let's write this out explicitly:\n",
        "\n",
        "$${\\bf Ax} = {\\bf Rb} \\tag{36a}$$\n",
        "\n",
        "which corresponds to\n",
        "\n",
        "$$\n",
        "\\left[\n",
        "\\begin{array}{ccccccc}\n",
        "1 & 0 & 0 & 0 & ... & 0& 0 &0 &0 \\\\\n",
        "0 & 1 & 0 & 0 & ... & 0& 0 &0 &0 \\\\\n",
        "0 & 0 & 1 & 0 & ... & 0& 0 &0 &0 \\\\\n",
        "\\vdots & \\vdots & \\vdots & \\ddots & \\vdots &\\vdots &\\vdots \\\\\n",
        "0 &0&0& 0 &...& 0&1&0&0\\\\\n",
        "0 &0&0& 0 &...& 0&0&1&0\\\\\n",
        "0 &0&0& 0 &...& 0&0&0&1\\\\\n",
        "\\end{array}\n",
        "\\right]\n",
        "\\left[\n",
        "\\begin{array}{c}\n",
        "U^{n+1}_0 \\\\\n",
        "U^{n+1}_1 \\\\\n",
        "U^{n+1}_2 \\\\\n",
        "\\vdots\\\\\n",
        "U^{n+1}_{I-2} \\\\\n",
        "U^{n+1}_{I-1} \\\\\n",
        "U^{n+1}_{I} \\\\\n",
        "\\end{array}\n",
        "\\right]\n",
        "=\n",
        "\\left[\n",
        "\\begin{array}{ccccccc}\n",
        "b_0 & b_{+1} & 0 & 0&... &0& 0 &0 &0 \\\\\n",
        "b_{-1} & b_0 & b_{+1} & 0& ... &0& 0 &0 &0 \\\\\n",
        "0 & b_{-1} & b_0 & b_{+1} &... &0& 0 &0 &0 \\\\\n",
        "\\vdots & \\vdots & \\vdots & \\ddots & \\vdots &\\vdots &\\vdots \\\\\n",
        "0 &0&0&0&...& b_{-1}&b_0&b_{+1}&0\\\\\n",
        "0 &0&0&0&...&0 &b_{-1}&b_0&b_{+1}\\\\\n",
        "0 &0&0&0&...&0 &0&b_{-1}&b_0\\\\\n",
        "\\end{array}\n",
        "\\right]\n",
        "\\left[\n",
        "\\begin{array}{c}\n",
        " U^{n}_{0} \\\\\n",
        " U^{n}_{1} \\\\\n",
        "U^{n}_{2} \\\\\n",
        "\\vdots\\\\\n",
        "U^{n}_{I-2} \\\\\n",
        "U^{n}_{I-1} \\\\\n",
        " U^{n}_{I} \\\\\n",
        "\\end{array}\n",
        "\\right]. \\tag{36b}$$"
      ]
    },
    {
      "cell_type": "markdown",
      "metadata": {
        "id": "pACS87uQuS5S"
      },
      "source": [
        "## A few thoughts on Boundary Conditions\n",
        "\n",
        "One thing that we didn't really cover above is the implementation of the boundary conditions.  Note that I have set these to be $u(0)=u(1)=0$ in the above, which is an example of a [Dirichlet Boundary Condition](https://en.wikipedia.org/wiki/Dirichlet_boundary_condition). These do not need to be zero, though, and are determined by the physics of the problem at hand.  However, these can easily be changed to include different types of boundary conditions including Neumann and periodic.\n",
        "\n",
        "### Neumann Boundary Conditions\n",
        "\n",
        "Let's say we wanted to include the following Neumann BC\n",
        "\n",
        "$$\\left.\\frac{\\partial u }{\\partial x} = 0  \\right|_{x=1} \\tag{37a}$$\n",
        "\n",
        "which should be interpreted as the solution should have **zero slope** at the boundary defined by $x=1$. In this case, we can use the following approximation:\n",
        "\n",
        "$$\\frac{U^n_{nx}- U^n_{nx-1}}{\\Delta x} = 0 \\tag{37b}$$\n",
        "\n",
        "or rearranging terms\n",
        "\n",
        "$$ U^n_{nx}= U^n_{nx-1} \\tag{37b}$$\n",
        "\n",
        "which is straightforward to implement."
      ]
    },
    {
      "cell_type": "code",
      "execution_count": null,
      "metadata": {
        "id": "k1UzjZdPuS5S",
        "outputId": "2903a778-100c-401e-fa1e-7215d6e5a9c3"
      },
      "outputs": [
        {
          "data": {
            "text/html": [
              "\n",
              "<video width=\"500\" controls style=\"display:block; margin:0 auto;\">\n",
              "  <source src=\"./movies/Ex3_7.mp4\" type=\"video/mp4\">\n",
              "</video>\n"
            ],
            "text/plain": [
              "<IPython.core.display.HTML object>"
            ]
          },
          "execution_count": 52,
          "metadata": {},
          "output_type": "execute_result"
        }
      ],
      "source": [
        "## . . Time axis parametes\n",
        "nt,dt=101,0.01\n",
        "\n",
        "## . . Space axis parameters\n",
        "xmin,xmax=0,1\n",
        "nx=101\n",
        "xx = np.linspace(xmin,xmax,nx)\n",
        "dx = xx[1]-xx[0]\n",
        "\n",
        "## . . Initial Condition\n",
        "sigma=0.1\n",
        "midpoint = (xmax-xmin)/2\n",
        "U = np.zeros(np.size(xx))\n",
        "U = np.exp(-(xx-midpoint)**2/sigma**2)\n",
        "\n",
        "## . . FD paramters\n",
        "vel= 1 # velocity\n",
        "alpha = vel*dt/dx\n",
        "\n",
        "## . . L-W coefficients (positive)\n",
        "bm =   alpha/2*(alpha+1)\n",
        "b0 = 1-alpha**2\n",
        "bp =   alpha/2*(alpha-1)\n",
        "\n",
        "## . . Advection equation solution\n",
        "def Lax_Wendroff_Solution_Neumann(U):\n",
        "    U[1:nx-1] = bm*U[0:nx-2]+b0*U[1:nx-1]+bp*U[2:nx]\n",
        "    U[0     ] = U[1  ]  # . . Enforce left  boundary condition (Neumann)\n",
        "    U[nx-1  ] = U[nx-2] # . . Enforce right boundary condition (Neumann)\n",
        "    return U\n",
        "\n",
        "c = np.zeros((nx,nt))\n",
        "\n",
        "for i in range(nt):\n",
        "    U = Lax_Wendroff_Solution_Neumann(U)\n",
        "    c[:,i]=U\n",
        "\n",
        "k = 0\n",
        "kskip = 3\n",
        "\n",
        "## . . Set up movie\n",
        "fig7,ax1 = plt.subplots(1)\n",
        "fig7.subplots_adjust(0.1,0.1,0.9,0.9)\n",
        "fig7.set_dpi(100)\n",
        "\n",
        "## . . Call the animator.\n",
        "anim7 = animation.FuncAnimation(fig7,advection_animate,frames=int((nt-kskip)/kskip),interval=100)\n",
        "anim7.save('./movies/Ex3_7.mp4')\n",
        "plt.close()\n",
        "\n",
        "HTML(\"\"\"\n",
        "<video width=\"500\" controls style=\"display:block; margin:0 auto;\">\n",
        "  <source src=\"./movies/Ex3_7.mp4\" type=\"video/mp4\">\n",
        "</video>\n",
        "\"\"\")"
      ]
    },
    {
      "cell_type": "markdown",
      "metadata": {
        "id": "JWxE-pQfuS5S"
      },
      "source": [
        "**Figure 3-14. Illustration of the Lax-Wendroff two-step solution grid using Neumann boundary conditions.**\n",
        "\n",
        "### Circular (Periodic) Boundary Conditions\n",
        "\n",
        "Another boundary condition that is sometimes used is the **circular** or **periodic** boundary condition.  This is where you want to have a problem that is disappearing from one side of the grid appearing on the other. In this case, one can enforce the following:\n",
        "\n",
        "$$u^{n}_{0} = u^{n}_{nx-2} \\tag{38a}$$\n",
        "\n",
        "and\n",
        "\n",
        "$$u^{n}_{nx-1} = u^{n}_{1}. \\tag{38b}$$\n",
        "\n",
        "The effect of setting these boundary conditions is illustrated in the figure below."
      ]
    },
    {
      "cell_type": "code",
      "execution_count": null,
      "metadata": {
        "id": "KMKl-V2muS5S",
        "outputId": "648bef8d-feec-4ba9-9cf2-e3902b8749fd"
      },
      "outputs": [
        {
          "data": {
            "text/html": [
              "\n",
              "<video width=\"500\" controls style=\"display:block; margin:0 auto;\">\n",
              "  <source src=\"./movies/Ex3_8.mp4\" type=\"video/mp4\">\n",
              "</video>\n"
            ],
            "text/plain": [
              "<IPython.core.display.HTML object>"
            ]
          },
          "execution_count": 53,
          "metadata": {},
          "output_type": "execute_result"
        }
      ],
      "source": [
        "## . . Time axis parametes\n",
        "nt,dt=101,0.01\n",
        "\n",
        "## . . Space axis parameters\n",
        "xmin,xmax=0,1\n",
        "nx=101\n",
        "xx = np.linspace(xmin,xmax,nx)\n",
        "dx = xx[1]-xx[0]\n",
        "\n",
        "## . . Initial Condition\n",
        "sigma=0.1\n",
        "midpoint = (xmax-xmin)/2\n",
        "U = np.zeros(np.size(xx))\n",
        "U = np.exp(-(xx-midpoint)**2/sigma**2)\n",
        "\n",
        "## . . FD paramters\n",
        "vel= 1 # velocity\n",
        "alpha = vel*dt/dx\n",
        "\n",
        "## . . L-W coefficients (positive)\n",
        "bm = alpha/2*(alpha+1)\n",
        "b0 = 1-alpha**2\n",
        "bp = alpha/2*(alpha-1)\n",
        "\n",
        "## . . Advection equation solution\n",
        "def Lax_Wendroff_Solution_Circular(U):\n",
        "    U[1:nx-1] = bm*U[0:nx-2]+b0*U[1:nx-1]+bp*U[2:nx]\n",
        "    U[0     ] = U[nx-2]  # . . Enforce left  boundary condition\n",
        "    U[nx-1  ] = U[1] # . . Enforce right boundary condition\n",
        "    return U\n",
        "\n",
        "c = np.zeros((nx,nt))\n",
        "\n",
        "for i in range(nt):\n",
        "    U = Lax_Wendroff_Solution_Circular(U)\n",
        "    c[:,i]=U\n",
        "\n",
        "k = 0\n",
        "kskip=3\n",
        "\n",
        "## . . Set up movie\n",
        "fig8,ax1 = plt.subplots(1)\n",
        "fig8.subplots_adjust(0.1,0.1,0.9,0.9)\n",
        "fig8.set_dpi(100)\n",
        "\n",
        "## . . Call the animator.\n",
        "anim8 = animation.FuncAnimation(fig8,advection_animate,frames=int((nt-kskip)/kskip),interval=100)\n",
        "anim8.save('./movies/Ex3_8.mp4')\n",
        "plt.close()\n",
        "\n",
        "HTML(\"\"\"\n",
        "<video width=\"500\" controls style=\"display:block; margin:0 auto;\">\n",
        "  <source src=\"./movies/Ex3_8.mp4\" type=\"video/mp4\">\n",
        "</video>\n",
        "\"\"\")"
      ]
    },
    {
      "cell_type": "markdown",
      "metadata": {
        "collapsed": true,
        "id": "7PpyYx4ouS5S"
      },
      "source": [
        "**Figure 15. Illustration of the Lax-Wendroff two-step solution grid using circular (periodic) boundary conditions.**"
      ]
    },
    {
      "cell_type": "code",
      "execution_count": null,
      "metadata": {
        "id": "FySwhcl3uS5T"
      },
      "outputs": [],
      "source": []
    }
  ],
  "metadata": {
    "kernelspec": {
      "display_name": "Python 3 (ipykernel)",
      "language": "python",
      "name": "python3"
    },
    "language_info": {
      "codemirror_mode": {
        "name": "ipython",
        "version": 3
      },
      "file_extension": ".py",
      "mimetype": "text/x-python",
      "name": "python",
      "nbconvert_exporter": "python",
      "pygments_lexer": "ipython3",
      "version": "3.9.7"
    },
    "toc": {
      "base_numbering": 1,
      "nav_menu": {},
      "number_sections": false,
      "sideBar": true,
      "skip_h1_title": false,
      "title_cell": "Table of Contents",
      "title_sidebar": "Contents",
      "toc_cell": false,
      "toc_position": {},
      "toc_section_display": true,
      "toc_window_display": true
    },
    "colab": {
      "provenance": [],
      "include_colab_link": true
    }
  },
  "nbformat": 4,
  "nbformat_minor": 0
}